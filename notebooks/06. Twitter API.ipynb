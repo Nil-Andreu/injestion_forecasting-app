{
 "cells": [
  {
   "cell_type": "markdown",
   "id": "14f5c80a",
   "metadata": {},
   "source": [
    "Resources:\n",
    "- [Blog NLP](https://medium.com/@nikitasilaparasetty/twitter-sentiment-analysis-for-data-science-using-python-in-2022-6d5e43f6fa6e)"
   ]
  },
  {
   "cell_type": "markdown",
   "id": "0b18f095",
   "metadata": {},
   "source": [
    "## Twint\n",
    "\n",
    "With this API, we do not have any type of limitation and we can use it without credentials on the Twitter API."
   ]
  },
  {
   "cell_type": "code",
   "execution_count": 1,
   "id": "2f8943d4",
   "metadata": {},
   "outputs": [],
   "source": [
    "import twint"
   ]
  },
  {
   "cell_type": "code",
   "execution_count": 2,
   "id": "a4631028",
   "metadata": {},
   "outputs": [],
   "source": [
    "import nest_asyncio\n",
    "nest_asyncio.apply()"
   ]
  },
  {
   "cell_type": "code",
   "execution_count": 3,
   "id": "e079c72f",
   "metadata": {},
   "outputs": [],
   "source": [
    "def scrape_company(company_name, amount):\n",
    "    \"\"\"\n",
    "    We will configure our search, for this we define:\n",
    "    - company name we will look for\n",
    "    - limit of amount of tweets to screapte\n",
    "    - where we store it into a csv file\n",
    "    \"\"\"\n",
    "    \n",
    "    # We start configuring what we will scrape\n",
    "    c = twint.Config()\n",
    "\n",
    "    c.Search = [f'{company_name}']       # topic\n",
    "    c.Limit = amount      # number of Tweets to scrape\n",
    "    c.Store_csv = True       # store tweets in a csv file\n",
    "    c.Output = f\"{company_name}_tweets.csv\"     # path to csv file\n",
    "\n",
    "    twint.run.Search(c)"
   ]
  },
  {
   "cell_type": "code",
   "execution_count": null,
   "id": "baa4a8ce",
   "metadata": {},
   "outputs": [],
   "source": [
    "# We start configuring what we will scrape\n",
    "c = twint.Config()\n",
    "\n",
    "c.Search = ['amazon']       # topic\n",
    "c.Limit = 10      # number of Tweets to scrape\n",
    "c.Store_csv = True       # store tweets in a csv file\n",
    "c.Output = \"amazon_tweets.csv\"     # path to csv file\n",
    "\n",
    "twint.run.Search(c)"
   ]
  },
  {
   "cell_type": "code",
   "execution_count": 6,
   "id": "771be036",
   "metadata": {},
   "outputs": [],
   "source": [
    "import pandas as pd\n",
    "df = pd.read_csv(\"./amazon_tweets.csv\")"
   ]
  },
  {
   "cell_type": "code",
   "execution_count": 19,
   "id": "0e097c99",
   "metadata": {},
   "outputs": [],
   "source": [
    "tweet = df[\"tweet\"][12]"
   ]
  },
  {
   "cell_type": "markdown",
   "id": "2ee1dca4",
   "metadata": {},
   "source": [
    "## Sentiment Analysis"
   ]
  },
  {
   "cell_type": "markdown",
   "id": "c880ddd7",
   "metadata": {},
   "source": [
    "### OpenAI\n",
    "\n",
    "We can use OpenAI model to make a sentiment analysis of the tweets."
   ]
  },
  {
   "cell_type": "code",
   "execution_count": null,
   "id": "5b67740a",
   "metadata": {},
   "outputs": [],
   "source": [
    "import os\n",
    "import openai\n",
    "\n",
    "openai.api_key = os.getenv(\"OPENAI_API_KEY\")\n",
    "\n",
    "response = openai.Completion.create(\n",
    "  model=\"text-davinci-002\",\n",
    "  prompt=tweet,\n",
    "  temperature=0,\n",
    "  max_tokens=60,\n",
    "  top_p=1.0,\n",
    "  frequency_penalty=0.0,\n",
    "  presence_penalty=0.0\n",
    ")"
   ]
  },
  {
   "cell_type": "markdown",
   "id": "2bd26129",
   "metadata": {},
   "source": [
    "But it only works for english language.\n",
    "\n",
    "A point in favour is that if there is multi-line tweet, it will evaluate each of the lines separately."
   ]
  },
  {
   "cell_type": "markdown",
   "id": "74bd0393",
   "metadata": {},
   "source": [
    "### HuggingFace"
   ]
  },
  {
   "cell_type": "markdown",
   "id": "56d1dd40",
   "metadata": {},
   "source": [
    "We could look for a free option, and one that provides also a solution for other languages (e.g. Chinese).\n",
    "This is important as we can see the distribution of tweets (from *Barbieri F., Espinosa L., Camacho-Collados J. - XLM-T: Multilingual Language Models in Twitter for Sentiment Analysis and Beyond*):\n",
    "\n",
    "![Distribution of languages](./images/language_distribution_twitter.png)\n",
    "\n",
    "For the tweets, we have to do some cleaning:\n",
    "- Get rid of the name of the company?\n",
    "- Get rid of urls to avoid spam\n",
    "- How to avoid bot tweets?"
   ]
  },
  {
   "cell_type": "code",
   "execution_count": 22,
   "id": "4b928065",
   "metadata": {},
   "outputs": [
    {
     "data": {
      "text/plain": [
       "'Amazon限定ブランド 【大容量】シャンプー  ツヤ髪  フローラル&amp;ベリーの香り ダイアンDX エクストラシャイン 詰め替え 1000ml 584  美容 ヘアケア オススメ  https://t.co/WcPNEaFjgz'"
      ]
     },
     "execution_count": 22,
     "metadata": {},
     "output_type": "execute_result"
    }
   ],
   "source": [
    "tweet"
   ]
  },
  {
   "cell_type": "code",
   "execution_count": null,
   "id": "fa386484",
   "metadata": {},
   "outputs": [],
   "source": []
  }
 ],
 "metadata": {
  "kernelspec": {
   "display_name": "Python 3 (ipykernel)",
   "language": "python",
   "name": "python3"
  },
  "language_info": {
   "codemirror_mode": {
    "name": "ipython",
    "version": 3
   },
   "file_extension": ".py",
   "mimetype": "text/x-python",
   "name": "python",
   "nbconvert_exporter": "python",
   "pygments_lexer": "ipython3",
   "version": "3.8.13"
  }
 },
 "nbformat": 4,
 "nbformat_minor": 5
}
