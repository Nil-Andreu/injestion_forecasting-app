{
 "cells": [
  {
   "cell_type": "markdown",
   "id": "14f5c80a",
   "metadata": {},
   "source": [
    "Resources:\n",
    "- [Blog NLP](https://medium.com/@nikitasilaparasetty/twitter-sentiment-analysis-for-data-science-using-python-in-2022-6d5e43f6fa6e)"
   ]
  },
  {
   "cell_type": "markdown",
   "id": "034002eb",
   "metadata": {},
   "source": [
    "## Twint\n",
    "\n",
    "With this API, we do not have any type of limitation and we can use it without credentials on the Twitter API."
   ]
  },
  {
   "cell_type": "code",
   "execution_count": 1,
   "id": "9faf4bfb",
   "metadata": {},
   "outputs": [],
   "source": [
    "import twint"
   ]
  },
  {
   "cell_type": "code",
   "execution_count": 2,
   "id": "18b746d8",
   "metadata": {},
   "outputs": [],
   "source": [
    "import nest_asyncio\n",
    "nest_asyncio.apply()"
   ]
  },
  {
   "cell_type": "code",
   "execution_count": 3,
   "id": "6bf136c5",
   "metadata": {},
   "outputs": [],
   "source": [
    "def scrape_company(company_name, amount):\n",
    "    \"\"\"\n",
    "    We will configure our search, for this we define:\n",
    "    - company name we will look for\n",
    "    - limit of amount of tweets to screapte\n",
    "    - where we store it into a csv file\n",
    "    \"\"\"\n",
    "    \n",
    "    # We start configuring what we will scrape\n",
    "    c = twint.Config()\n",
    "\n",
    "    c.Search = [f'{company_name}']       # topic\n",
    "    c.Limit = amount      # number of Tweets to scrape\n",
    "    c.Store_csv = True       # store tweets in a csv file\n",
    "    c.Output = f\"{company_name}_tweets.csv\"     # path to csv file\n",
    "\n",
    "    twint.run.Search(c)"
   ]
  },
  {
   "cell_type": "code",
   "execution_count": null,
   "id": "0f4b4f6f",
   "metadata": {},
   "outputs": [],
   "source": [
    "# We start configuring what we will scrape\n",
    "c = twint.Config()\n",
    "\n",
    "c.Search = ['amazon']       # topic\n",
    "c.Limit = 10      # number of Tweets to scrape\n",
    "c.Store_csv = True       # store tweets in a csv file\n",
    "c.Output = \"amazon_tweets.csv\"     # path to csv file\n",
    "\n",
    "twint.run.Search(c)"
   ]
  },
  {
   "cell_type": "code",
   "execution_count": 4,
   "id": "38fc3113",
   "metadata": {},
   "outputs": [],
   "source": [
    "import pandas as pd\n",
    "df = pd.read_csv(\"./csv/amazon_tweets.csv\")"
   ]
  },
  {
   "cell_type": "code",
   "execution_count": 19,
   "id": "837f6856",
   "metadata": {},
   "outputs": [],
   "source": [
    "tweet = df[\"tweet\"][12]"
   ]
  },
  {
   "cell_type": "markdown",
   "id": "6c520b64",
   "metadata": {},
   "source": [
    "## Sentiment Analysis"
   ]
  },
  {
   "cell_type": "markdown",
   "id": "24dc2d28",
   "metadata": {},
   "source": [
    "### OpenAI\n",
    "\n",
    "We can use OpenAI model to make a sentiment analysis of the tweets."
   ]
  },
  {
   "cell_type": "code",
   "execution_count": null,
   "id": "049cfc48",
   "metadata": {},
   "outputs": [],
   "source": [
    "import os\n",
    "import openai\n",
    "\n",
    "openai.api_key = os.getenv(\"OPENAI_API_KEY\")\n",
    "\n",
    "response = openai.Completion.create(\n",
    "  model=\"text-davinci-002\",\n",
    "  prompt=tweet,\n",
    "  temperature=0,\n",
    "  max_tokens=60,\n",
    "  top_p=1.0,\n",
    "  frequency_penalty=0.0,\n",
    "  presence_penalty=0.0\n",
    ")"
   ]
  },
  {
   "cell_type": "markdown",
   "id": "7de1e91f",
   "metadata": {},
   "source": [
    "But it only works for english language.\n",
    "\n",
    "A point in favour is that if there is multi-line tweet, it will evaluate each of the lines separately."
   ]
  },
  {
   "cell_type": "markdown",
   "id": "620c9a5a",
   "metadata": {},
   "source": [
    "### HuggingFace"
   ]
  },
  {
   "cell_type": "markdown",
   "id": "2a5d2544",
   "metadata": {},
   "source": [
    "We could look for a free option, and one that provides also a solution for other languages (e.g. Chinese).\n",
    "This is important as we can see the distribution of tweets (from *Barbieri F., Espinosa L., Camacho-Collados J. - XLM-T: Multilingual Language Models in Twitter for Sentiment Analysis and Beyond*):\n",
    "\n",
    "![Distribution of languages](./images/language_distribution_twitter.png)\n",
    "\n",
    "For the tweets, we have to do some cleaning:\n",
    "- Get rid of the name of the company?\n",
    "- Get rid of urls to avoid spam\n",
    "- How to avoid bot tweets?\n",
    "\n",
    "For making the overall sentiment about a company, we could consider:\n",
    "- Longer Tweets have a higher weight?\n",
    "- Some threshold of certainty about if a tweet is + or -?"
   ]
  },
  {
   "cell_type": "code",
   "execution_count": 6,
   "id": "4bd54302",
   "metadata": {},
   "outputs": [
    {
     "name": "stderr",
     "output_type": "stream",
     "text": [
      "The cache for model files in Transformers v4.22.0 has been updated. Migrating your old cache. This is a one-time only operation. You can interrupt this and resume the migration later on by calling `transformers.utils.move_cache()`.\n"
     ]
    },
    {
     "name": "stdout",
     "output_type": "stream",
     "text": [
      "Moving 0 files to the new cache system\n"
     ]
    },
    {
     "data": {
      "application/vnd.jupyter.widget-view+json": {
       "model_id": "63339c62a17f47eb8dab171ed33f5fe2",
       "version_major": 2,
       "version_minor": 0
      },
      "text/plain": [
       "0it [00:00, ?it/s]"
      ]
     },
     "metadata": {},
     "output_type": "display_data"
    }
   ],
   "source": [
    "import numpy as np\n",
    "from transformers import AutoModelForSequenceClassification\n",
    "from transformers import TFAutoModelForSequenceClassification\n",
    "from transformers import AutoTokenizer, AutoConfig\n",
    "from scipy.special import softmax\n",
    "\n",
    "# Preprocess text (username and link placeholders)\n",
    "def preprocess(text):\n",
    "    new_text = []\n",
    "    for t in text.split(\" \"):\n",
    "        # Avoid user names\n",
    "        t = '@user' if t.startswith('@') and len(t) > 1 else t\n",
    "        \n",
    "        # Avoid urls\n",
    "        t = 'http' if t.startswith('http') else t\n",
    "        \n",
    "        new_text.append(t)\n",
    "        \n",
    "    return \" \".join(new_text)"
   ]
  },
  {
   "cell_type": "code",
   "execution_count": 7,
   "id": "b2de6e32",
   "metadata": {},
   "outputs": [],
   "source": [
    "# And now we instantiate the model\n",
    "MODEL = f\"cardiffnlp/twitter-xlm-roberta-base-sentiment\"\n",
    "\n",
    "tokenizer = AutoTokenizer.from_pretrained(MODEL)\n",
    "config = AutoConfig.from_pretrained(MODEL)"
   ]
  },
  {
   "cell_type": "code",
   "execution_count": 10,
   "id": "d4e649b4",
   "metadata": {},
   "outputs": [],
   "source": [
    "# We load the model\n",
    "model = AutoModelForSequenceClassification.from_pretrained(MODEL)\n",
    "model.save_pretrained(MODEL)\n",
    "\n",
    "# And we pass the text\n",
    "text = \"Good night 😊\"\n",
    "text = preprocess(text)\n",
    "encoded_input = tokenizer(text, return_tensors='pt')\n",
    "output = model(**encoded_input)\n",
    "scores = output[0][0].detach().numpy()\n",
    "scores = softmax(scores)"
   ]
  },
  {
   "cell_type": "code",
   "execution_count": 13,
   "id": "6b0d6345",
   "metadata": {},
   "outputs": [
    {
     "name": "stdout",
     "output_type": "stream",
     "text": [
      "Negative:  0.03125937\n",
      "Neutral:  0.20148008\n",
      "Positive:  0.76726055\n"
     ]
    }
   ],
   "source": [
    "print(\"Negative: \", scores[0])\n",
    "print(\"Neutral: \", scores[1])\n",
    "print(\"Positive: \", scores[2])"
   ]
  },
  {
   "cell_type": "code",
   "execution_count": null,
   "id": "0fc7b236",
   "metadata": {},
   "outputs": [],
   "source": [
    "from transformers import pipeline\n",
    "model_path = \"cardiffnlp/twitter-xlm-roberta-base-sentiment\"\n",
    "sentiment_task = pipeline(\"sentiment-analysis\", model=model_path, tokenizer=model_path)\n",
    "sentiment_task(\"Huggingface es lo mejor! Awesome library 🤗😎\")"
   ]
  },
  {
   "cell_type": "code",
   "execution_count": null,
   "id": "0e14e97b",
   "metadata": {},
   "outputs": [],
   "source": []
  }
 ],
 "metadata": {
  "kernelspec": {
   "display_name": "Python 3 (ipykernel)",
   "language": "python",
   "name": "python3"
  },
  "language_info": {
   "codemirror_mode": {
    "name": "ipython",
    "version": 3
   },
   "file_extension": ".py",
   "mimetype": "text/x-python",
   "name": "python",
   "nbconvert_exporter": "python",
   "pygments_lexer": "ipython3",
   "version": "3.8.13"
  }
 },
 "nbformat": 4,
 "nbformat_minor": 5
}
