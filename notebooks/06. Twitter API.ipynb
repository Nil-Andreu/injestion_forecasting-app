{
 "cells": [
  {
   "cell_type": "markdown",
   "id": "14f5c80a",
   "metadata": {},
   "source": [
    "Resources:\n",
    "- [Blog NLP](https://medium.com/@nikitasilaparasetty/twitter-sentiment-analysis-for-data-science-using-python-in-2022-6d5e43f6fa6e)"
   ]
  },
  {
   "cell_type": "markdown",
   "id": "d7c6540a",
   "metadata": {},
   "source": [
    "## Twint\n",
    "\n",
    "With this API, we do not have any type of limitation and we can use it without credentials on the Twitter API."
   ]
  },
  {
   "cell_type": "code",
   "execution_count": 1,
   "id": "79c4c692",
   "metadata": {},
   "outputs": [],
   "source": [
    "import twint"
   ]
  },
  {
   "cell_type": "code",
   "execution_count": 2,
   "id": "c5f9d402",
   "metadata": {},
   "outputs": [],
   "source": [
    "import nest_asyncio\n",
    "nest_asyncio.apply()"
   ]
  },
  {
   "cell_type": "code",
   "execution_count": 3,
   "id": "11c6044b",
   "metadata": {},
   "outputs": [],
   "source": [
    "def scrape_company(company_name, amount):\n",
    "    \"\"\"\n",
    "    We will configure our search, for this we define:\n",
    "    - company name we will look for\n",
    "    - limit of amount of tweets to screapte\n",
    "    - where we store it into a csv file\n",
    "    \"\"\"\n",
    "    \n",
    "    # We start configuring what we will scrape\n",
    "    c = twint.Config()\n",
    "\n",
    "    c.Search = [f'{company_name}']       # topic\n",
    "    c.Limit = amount      # number of Tweets to scrape\n",
    "    c.Store_csv = True       # store tweets in a csv file\n",
    "    c.Output = f\"{company_name}_tweets.csv\"     # path to csv file\n",
    "\n",
    "    twint.run.Search(c)"
   ]
  },
  {
   "cell_type": "code",
   "execution_count": 4,
   "id": "ae49812f",
   "metadata": {},
   "outputs": [
    {
     "name": "stdout",
     "output_type": "stream",
     "text": [
      "1576978208590807040 2022-10-03 16:51:18 +0000 <AmazonHelp> @DinuRanwa We're sorry to know about the issue you've had with the cancellation of your order. We'll be sure to pass on this as feedback to our concerned team internally. As we wouldn't be able to reinstate the cancelled order, we request you to place a new order. (2/2) -Leigh\n",
      "1576978207340838913 2022-10-03 16:51:18 +0000 <Lperson1204> 🚀🚀🚀Amazon話題商品🚀🚀🚀  🎉話題の人気商品掲載です🎉  探していたものはありましたか❓  Amazon  https://t.co/WRELptxt9g  希少商品もあるので売り切れる前にいっそげ～😁😁😁  #Amazonプライムデー #Amazonプライムセール\n",
      "1576978205948329993 2022-10-03 16:51:17 +0000 <whodatBaayboi> C’mon!! Easily could be 4-0\n",
      "1576978204761657345 2022-10-03 16:51:17 +0000 <Kyoko_Blogger> きょうこの #Amazon おすすめはコレ♪ (92M2y)  ★ [シチズン Q&amp;Q] 腕時計 アナログ 防水 革ベルト QA69-103 レディース ゴールド  ▼ ￥1,182  https://t.co/2EnJRzOS2d\n",
      "1576978204505489410 2022-10-03 16:51:17 +0000 <Lperson1204> 🚀🚀🚀Amazon話題商品🚀🚀🚀  🎉話題の人気商品掲載です🎉  探していたものはありましたか❓  Amazon  https://t.co/0OqbYQdZSI  希少商品もあるので売り切れる前にいっそげ～😁😁😁  #Amazonプライムデー #Amazonプライムセール\n",
      "1576978201582206981 2022-10-03 16:51:16 +0000 <AmazonHelp> @hellodsr Kindly login to our account and connect with our Social Media team for further assistance. -Mohammed\n",
      "1576978198029484036 2022-10-03 16:51:15 +0000 <n03ebhaiOwuFMul> Amazon 【 https://t.co/jQigSYQsqW限定】フィリップス 光美容器 ルメア エッセンシャル ポーチ付 交流式 ライトグリーン BRI862/70  売れ筋✨  https://t.co/bAO3QimMxZ\n",
      "1576978196637306880 2022-10-03 16:51:15 +0000 <CSWDARROYd3DiDV> Amazon Logicool G ロジクール G ゲーミングマウス ワイヤレス G703h HERO 25Kセンサー LIGHTSPEED 無線 エルゴノミクス LIGHTSYNC RGB POWERPLAY ワイヤレス充電 国内正規品 流行の商品をご紹介🔥  https://t.co/PdEmBybsMW\n",
      "1576978196590993408 2022-10-03 16:51:15 +0000 <fixitfixitfixit> (US)msi 3090 ventus 3x - New  - Other Seller - $1762.99 Link:  https://t.co/tXLNEgSNnr ATC:  https://t.co/QqhKjZ5c3P As an Amazon Associate I earn from qualifying purchases 1664801451\n",
      "1576978194783416321 2022-10-03 16:51:15 +0000 <Ib4z7VNTYfmzUvP> Amazon 良かったら見てください  Apple Pencil(第2世代) ペンシル 072  ▼商品ページはコチラ  https://t.co/lQo33vaieN\n",
      "1576978190819524608 2022-10-03 16:51:14 +0000 <lexus_snowman> mini (ミニ)12月号  表紙  #なにわ男子  12P  Amazon  https://t.co/KWs2yEifYp  西畑大吾 大西流星 道枝駿佑 高橋恭平 長尾謙杜 藤原丈一郎 大橋和也  M509\n",
      "1576978189192085513 2022-10-03 16:51:13 +0000 <fobmet0y> @MMM140806 情報技術以外も全部取られてるね。 Amazonの出品数見ればわかるよ。\n",
      "1576978182657359873 2022-10-03 16:51:12 +0000 <WRekbpNh4RTI0hg> Amazon限定ブランド 【大容量】シャンプー  ツヤ髪  フローラル&amp;ベリーの香り ダイアンDX エクストラシャイン 詰め替え 1000ml 584  美容 ヘアケア オススメ  https://t.co/WcPNEaFjgz\n",
      "1576978181370052608 2022-10-03 16:51:11 +0000 <lS4D9KSC0QTRRXL> シャープ 加湿 空気清浄機 プラズマクラスター 7000 スタンダード 13畳 / 空気清浄 23畳 2019年モデル ホワイト KC-L50-W  Amazon を、チェックしよう✨  https://t.co/Dmy6ZgJLei\n",
      "1576978181298753537 2022-10-03 16:51:11 +0000 <xGLk2zGWnzp0Nm6> Amazon OLYMPUS デジタルカメラ Tough TG-6 ブラック 1200万画素CMOS F2.0 15m 防水 100kgf耐荷重 GPS 内蔵Wi-Fi TG-6BLK  これは欲しい🌈  https://t.co/ZHKCP67AXT\n",
      "1576978180199571457 2022-10-03 16:51:11 +0000 <AmazonHelp> @DwpRiley Hi there! Thanks for reaching out to us regarding this matter. Please keep checking our website since we are updating it daily. We apologize for any inconveince this may cause. -Waya\n",
      "1576978179985588226 2022-10-03 16:51:11 +0000 <H7KNyfg7rCI4hLQ> 【ケース販売】明治 ザバス(SAVAS) ミルクプロテイン 脂肪 0 ココア風味 200ml×24本入  Amazon 日用品 を、チェックしてね！  https://t.co/CEHEDIv4oX\n",
      "1576978179759243265 2022-10-03 16:51:11 +0000 <fixitfixitfixit> (US)PowerColor Liquid Devil AMD RX 6950 XT - $1499.99 Link:  https://t.co/mYGztIocf4 ATC:  https://t.co/XIxy8mrftU As an Amazon Associate I earn from qualifying purchases 1664801447\n",
      "1576978179650379782 2022-10-03 16:51:11 +0000 <paulfromgrace> @dianabutlerbass really enjoy your work! Picked up two copies of A People’s History of Christianity from Amazon and the print quality (very tight top/center margins) and blurry HarperOne logo had me wondering if I got counterfeits. Any help?  https://t.co/NWDcsQHGdU\n",
      "1576978175841771522 2022-10-03 16:51:10 +0000 <Offers4Germany> 📍 Amazon Basics PBH-22632 - Cinch-Y-Adapterkabel, 2 x Cinch-Stecker auf 1 x Cinch  💰 Nur 7,63€ statt 8,99€ (-15%)  🔎  https://t.co/HArVoo91tb  https://t.co/wzU0ttL9DC\n",
      "1576978171249188865 2022-10-03 16:51:09 +0000 <zmxncb521> 「ブレイキング・ナイト　ホームレスだった私がハーバードに入るまで」→を Amazon でチェック！  https://t.co/ksSdSpPo9y @さんから\n",
      "1576978170926047232 2022-10-03 16:51:09 +0000 <kittyomu0319> NHKきょうの健康　命を守る、救える！応急手当［イラスト図解］事典  https://t.co/8Wr12iPqHo @amazonより\n",
      "1576978168249925637 2022-10-03 16:51:08 +0000 <booknonfic_info> ⚡10月4日  新着ランキング⚡  たった２日で組織が変わる！リピート率95％ 野外研修 人気の秘訣 田中孝治（著）  ＼ビジネス・経済  Amazonランキング第25位！／ [10月4日0時点]  https://t.co/TS4f4xStDJ\n",
      "1576978167427842050 2022-10-03 16:51:08 +0000 <GhSM7UA4lODdf2d> Amazon☆ 売れてる商品はこれ☑  IODATA ゲーミングモニター 27インチ GigaCrysta 4K ADSパネル (PS5/AMD FreeSync/HDMI) モニター  FreeSyncテクノロジー対応27型ゲーミングモニター  https://t.co/EYLU1T40PO\n",
      "1576978166631075842 2022-10-03 16:51:08 +0000 <PacesNacional> 10月4日 Amazonダイエットバー の 売れ筋ランキング第4位 | 【まとめ買い】 サラサーティ クリーン 膣洗浄器 においが気になるおりもの・膣に 乳酸ジェルで膣内を清浄化 防腐剤フリー 日本製 3本入り×･･･ / ￥1,945 [1:51 情報]  https://t.co/aaA00gNDUh\n",
      "1576978165981151232 2022-10-03 16:51:08 +0000 <soycos7> Amazon漁れば漁るだけほしいもの増えてく。 誘惑が誘ってくるぞー！！\n",
      "1576978164605075462 2022-10-03 16:51:07 +0000 <opiniotron> Tenista suíço Roger Federer na broderagem. Tosqueira? Luisa, ladra de arte, 35, prega que tá certo isso, sim.\n",
      "1576978163883999234 2022-10-03 16:51:07 +0000 <eStream_Studios> Call Of Duty Modern Warfare 2 Preorders: Bonuses, Editions, And More: Preorder Call of Duty: Modern Warfare 2     PS5 and PS4    $70 at Amazon            Preorder Call of Duty: Modern…  https://t.co/j0Q6zQJb6v  |  https://t.co/9PZsVIIt5b  |  https://t.co/eKi4cOOkg2 #gaming #news  https://t.co/dUL0aDwK5R\n",
      "1576978163527204864 2022-10-03 16:51:07 +0000 <DXTMA> Beats: Italian antitrust fine for Apple and Amazon cancelled on appeal  https://t.co/e7fZvjI5Te\n"
     ]
    }
   ],
   "source": [
    "# We start configuring what we will scrape\n",
    "c = twint.Config()\n",
    "\n",
    "c.Search = ['amazon']       # topic\n",
    "c.Limit = 10      # number of Tweets to scrape\n",
    "c.Store_csv = True       # store tweets in a csv file\n",
    "c.Output = \"amazon_tweets.csv\"     # path to csv file\n",
    "\n",
    "twint.run.Search(c)"
   ]
  },
  {
   "cell_type": "code",
   "execution_count": null,
   "id": "3ad55523",
   "metadata": {},
   "outputs": [],
   "source": []
  }
 ],
 "metadata": {
  "kernelspec": {
   "display_name": "Python 3 (ipykernel)",
   "language": "python",
   "name": "python3"
  },
  "language_info": {
   "codemirror_mode": {
    "name": "ipython",
    "version": 3
   },
   "file_extension": ".py",
   "mimetype": "text/x-python",
   "name": "python",
   "nbconvert_exporter": "python",
   "pygments_lexer": "ipython3",
   "version": "3.8.13"
  }
 },
 "nbformat": 4,
 "nbformat_minor": 5
}
