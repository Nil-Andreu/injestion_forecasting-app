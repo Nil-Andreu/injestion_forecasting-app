{
 "cells": [
  {
   "cell_type": "markdown",
   "id": "83428a54",
   "metadata": {},
   "source": [
    "# IEX Cloud\n",
    "\n",
    "It offers a plan of 9$ per month, as well as a free plan with 50.000 API calls per month."
   ]
  }
 ],
 "metadata": {
  "kernelspec": {
   "display_name": "Python 3 (ipykernel)",
   "language": "python",
   "name": "python3"
  },
  "language_info": {
   "codemirror_mode": {
    "name": "ipython",
    "version": 3
   },
   "file_extension": ".py",
   "mimetype": "text/x-python",
   "name": "python",
   "nbconvert_exporter": "python",
   "pygments_lexer": "ipython3",
   "version": "3.8.13"
  }
 },
 "nbformat": 4,
 "nbformat_minor": 5
}
