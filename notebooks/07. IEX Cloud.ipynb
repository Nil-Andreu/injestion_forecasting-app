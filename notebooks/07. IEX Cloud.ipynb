{
 "cells": [
  {
   "cell_type": "markdown",
   "id": "e751c094",
   "metadata": {},
   "source": [
    "# IEX Cloud\n",
    "\n",
    "It offers a plan of 9$ per month, as well as a free plan with 50.000 API calls per month."
   ]
  },
  {
   "cell_type": "code",
   "execution_count": 2,
   "id": "a70cd7e1",
   "metadata": {},
   "outputs": [],
   "source": [
    "# Need a token to use\n",
    "from iexfinance.refdata import get_symbols\n",
    "\n",
    "get_symbols(output_format=\"pandas\", token=\"\")"
   ]
  },
  {
   "cell_type": "code",
   "execution_count": null,
   "id": "dbb5bcdd",
   "metadata": {},
   "outputs": [],
   "source": [
    "from iexfinance.stocks import Stock\n",
    "amzn = Stock(\"amzn\", token=\"\")\n",
    "\n",
    "amzn.get_balance_sheet()"
   ]
  },
  {
   "cell_type": "code",
   "execution_count": null,
   "id": "c5e9eeea",
   "metadata": {},
   "outputs": [],
   "source": [
    "amzn.get_price()"
   ]
  },
  {
   "cell_type": "markdown",
   "id": "6cbe922c",
   "metadata": {},
   "source": [
    "We can see also sector performance, which can be very interesting."
   ]
  },
  {
   "cell_type": "code",
   "execution_count": null,
   "id": "821ec3aa",
   "metadata": {},
   "outputs": [],
   "source": [
    "from iexfinance.stocks import get_sector_performance\n",
    "\n",
    "get_sector_performance(output_format=\"pandas\", token = \"\")"
   ]
  },
  {
   "cell_type": "code",
   "execution_count": null,
   "id": "633a685c",
   "metadata": {},
   "outputs": [],
   "source": [
    "# And we can get a lot of historical data from a company\n",
    "from iexfinance.stocks import get_historical_data\n",
    "\n",
    "get_historical_data(\"AMZN\", start=\"20170928\", end=\"20220928\", output_format=\"pandas\", token=\"\")"
   ]
  }
 ],
 "metadata": {
  "kernelspec": {
   "display_name": "Python 3 (ipykernel)",
   "language": "python",
   "name": "python3"
  },
  "language_info": {
   "codemirror_mode": {
    "name": "ipython",
    "version": 3
   },
   "file_extension": ".py",
   "mimetype": "text/x-python",
   "name": "python",
   "nbconvert_exporter": "python",
   "pygments_lexer": "ipython3",
   "version": "3.8.13"
  }
 },
 "nbformat": 4,
 "nbformat_minor": 5
}
