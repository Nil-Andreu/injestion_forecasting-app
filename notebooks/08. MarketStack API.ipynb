{
 "cells": [
  {
   "cell_type": "markdown",
   "id": "d8a073ef",
   "metadata": {},
   "source": [
    "# MarketStack\n",
    "\n",
    "Offers extensive real-time data, intra-day as well as historical market data across the most important global stock exchanges.\n",
    "\n",
    "It has a free access up to 1.000 monthly API requests.\n",
    "\n",
    "It does not have an API, but we can acess via REST API json."
   ]
  },
  {
   "cell_type": "markdown",
   "id": "823bff3c",
   "metadata": {},
   "source": [
    "Get the adjusted close for amazon:"
   ]
  },
  {
   "cell_type": "code",
   "execution_count": null,
   "id": "c565c039",
   "metadata": {},
   "outputs": [],
   "source": [
    "import requests\n",
    "\n",
    "# Requires api key\n",
    "headers = {\n",
    "    \"access_key\" : \"\"\n",
    "}\n",
    "\n",
    "api_result = requests.get(\"http://api.marketstack.com/v1/tickers/amzn/eod\", headers)\n",
    "api_result.json()"
   ]
  },
  {
   "cell_type": "markdown",
   "id": "ba7c70ff",
   "metadata": {},
   "source": [
    "We could get all the tickers from the NASDAQ companies (which can be interesting to have them as well as the ones from S&P500).\n",
    "\n",
    "Very important to obtain this tickers (jointly with wiki), to know which is our **univers** of companies for then do backtesting --> stocks we will be trading. \n",
    "\n",
    "We could then restrict to only a **subset** of those stocks, for example stocks with:\n",
    "- Certain sectors\n",
    "- Certain trends\n",
    "- Certain volumes"
   ]
  },
  {
   "cell_type": "code",
   "execution_count": null,
   "id": "a5353b7b",
   "metadata": {},
   "outputs": [],
   "source": [
    "api_result = requests.get(\"http://api.marketstack.com/v1/exchanges/XNAS/tickers\", headers)\n",
    "api_response = api_result.json()\n",
    "\n",
    "for ticker in api_response[\"data\"][\"tickers\"]:\n",
    "    print(\"Name: \", ticker[\"name\"], \". Ticker\", ticker[\"symbol\"])"
   ]
  }
 ],
 "metadata": {
  "kernelspec": {
   "display_name": "Python 3 (ipykernel)",
   "language": "python",
   "name": "python3"
  },
  "language_info": {
   "codemirror_mode": {
    "name": "ipython",
    "version": 3
   },
   "file_extension": ".py",
   "mimetype": "text/x-python",
   "name": "python",
   "nbconvert_exporter": "python",
   "pygments_lexer": "ipython3",
   "version": "3.8.13"
  }
 },
 "nbformat": 4,
 "nbformat_minor": 5
}
