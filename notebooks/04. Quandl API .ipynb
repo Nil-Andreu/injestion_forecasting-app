{
 "cells": [
  {
   "cell_type": "markdown",
   "id": "2bfe6af5",
   "metadata": {},
   "source": [
    "# Quandl\n",
    "\n",
    "This is one of the largest providers on economic/financial data on the internet.\n",
    "\n",
    "The difference of Yahoo with Quandl is that Quandl data is more reliable and more complete.\n",
    "\n",
    "Resources:\n",
    "- [Blog](https://algotrading101.com/learn/quandl-guide/)\n",
    "- [Databases](https://www.quandl.com/api/v3/databases)\n",
    "- [Financial Data](https://data.nasdaq.com/search)"
   ]
  },
  {
   "cell_type": "code",
   "execution_count": 6,
   "id": "67e95c22",
   "metadata": {},
   "outputs": [],
   "source": [
    "# Need a token to use\n",
    "import quandl\n",
    "quandl.ApiConfig.api_key = ''\n",
    "\n",
    "quandl.get(\"ODA/PAMZN_USD\")"
   ]
  },
  {
   "cell_type": "code",
   "execution_count": null,
   "id": "4583ebd9",
   "metadata": {},
   "outputs": [],
   "source": [
    "quandl.get_table(\"ZACKS/FC\", ticker=\"AMZN\")"
   ]
  }
 ],
 "metadata": {
  "kernelspec": {
   "display_name": "Python 3 (ipykernel)",
   "language": "python",
   "name": "python3"
  },
  "language_info": {
   "codemirror_mode": {
    "name": "ipython",
    "version": 3
   },
   "file_extension": ".py",
   "mimetype": "text/x-python",
   "name": "python",
   "nbconvert_exporter": "python",
   "pygments_lexer": "ipython3",
   "version": "3.8.13"
  }
 },
 "nbformat": 4,
 "nbformat_minor": 5
}
