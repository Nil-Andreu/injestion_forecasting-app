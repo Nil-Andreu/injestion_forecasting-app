{
 "cells": [
  {
   "cell_type": "markdown",
   "id": "fc5c1de6",
   "metadata": {},
   "source": [
    "Resources:\n",
    "- [TATA Global](https://www.kaggle.com/code/samyakjhaveri/stock-prediction-using-lstm-on-tata-global-stock)\n",
    "- [Introduction Web Scrapping](https://realpython.com/python-web-scraping-practical-introduction/)\n",
    "- [Advanced Web Scrapping](https://www.codementor.io/blog/python-web-scraping-63l2v9sf2q)\n",
    "- [Web Scrapping Images](https://www.makeuseof.com/python-scrape-web-images-how-to/)"
   ]
  }
 ],
 "metadata": {
  "kernelspec": {
   "display_name": "Python 3 (ipykernel)",
   "language": "python",
   "name": "python3"
  },
  "language_info": {
   "codemirror_mode": {
    "name": "ipython",
    "version": 3
   },
   "file_extension": ".py",
   "mimetype": "text/x-python",
   "name": "python",
   "nbconvert_exporter": "python",
   "pygments_lexer": "ipython3",
   "version": "3.8.13"
  }
 },
 "nbformat": 4,
 "nbformat_minor": 5
}
