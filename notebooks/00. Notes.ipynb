{
 "cells": [
  {
   "cell_type": "markdown",
   "id": "3bfe45de",
   "metadata": {},
   "source": [
    "# Notes"
   ]
  },
  {
   "cell_type": "markdown",
   "id": "abbe3795",
   "metadata": {},
   "source": [
    "This first notebook will be basically to have some notes as a reminder of the basic tools."
   ]
  },
  {
   "cell_type": "markdown",
   "id": "b852aa79",
   "metadata": {},
   "source": [
    "### Numpy"
   ]
  },
  {
   "cell_type": "code",
   "execution_count": 1,
   "id": "2d8aedce",
   "metadata": {},
   "outputs": [],
   "source": [
    "import numpy as np"
   ]
  },
  {
   "cell_type": "markdown",
   "id": "cd55bc19",
   "metadata": {},
   "source": [
    "#### One-Dimensional Array"
   ]
  },
  {
   "cell_type": "code",
   "execution_count": 2,
   "id": "bd82b5e0",
   "metadata": {},
   "outputs": [
    {
     "data": {
      "text/plain": [
       "array([1, 2, 3, 4, 5])"
      ]
     },
     "execution_count": 2,
     "metadata": {},
     "output_type": "execute_result"
    }
   ],
   "source": [
    "# One-dimensional array\n",
    "arr1D = np.array([1, 2, 3, 4, 5])\n",
    "arr1D"
   ]
  },
  {
   "cell_type": "code",
   "execution_count": 19,
   "id": "645516d4",
   "metadata": {},
   "outputs": [
    {
     "name": "stdout",
     "output_type": "stream",
     "text": [
      "[1. 2. 3. 4. 5.] float64\n"
     ]
    }
   ],
   "source": [
    "arr1D_float = np.array([1.5, 2.2, 3.1, 4.6, 5.9], dtype=np.float64)  # we could make them floats\n",
    "print(arr1D_float, arr1D_float.dtype)"
   ]
  },
  {
   "cell_type": "code",
   "execution_count": 21,
   "id": "8d48bb07",
   "metadata": {},
   "outputs": [
    {
     "name": "stdout",
     "output_type": "stream",
     "text": [
      "[False  True False  True] bool\n"
     ]
    },
    {
     "name": "stderr",
     "output_type": "stream",
     "text": [
      "/tmp/ipykernel_1622542/4084439031.py:1: DeprecationWarning: `np.bool` is a deprecated alias for the builtin `bool`. To silence this warning, use `bool` by itself. Doing this will not modify any behavior and is safe. If you specifically wanted the numpy scalar type, use `np.bool_` here.\n",
      "Deprecated in NumPy 1.20; for more details and guidance: https://numpy.org/devdocs/release/1.20.0-notes.html#deprecations\n",
      "  arr1D_bool = np.array([0, 1, 0, 1], dtype=np.bool)  # we could make them boolean\n"
     ]
    }
   ],
   "source": [
    "arr1D_bool = np.array([0, 1, 0, 1], dtype=np.bool)  # we could make them boolean\n",
    "print(arr1D_bool, arr1D_bool.dtype)"
   ]
  },
  {
   "cell_type": "code",
   "execution_count": 22,
   "id": "ffe0de9b",
   "metadata": {},
   "outputs": [
    {
     "data": {
      "text/plain": [
       "array([1., 2., 3., 4., 5.])"
      ]
     },
     "execution_count": 22,
     "metadata": {},
     "output_type": "execute_result"
    }
   ],
   "source": [
    "# We could also convert the dtype of the first array we created, arr1D\n",
    "arr1D.astype(np.float64)"
   ]
  },
  {
   "cell_type": "code",
   "execution_count": 24,
   "id": "a14ea2db",
   "metadata": {},
   "outputs": [
    {
     "data": {
      "text/plain": [
       "array([1, 2, 3, 4, 5])"
      ]
     },
     "execution_count": 24,
     "metadata": {},
     "output_type": "execute_result"
    }
   ],
   "source": [
    "# The same for converting the _float to _int\n",
    "arr1D_float.astype(np.int64)  # We see that it truncates those values"
   ]
  },
  {
   "cell_type": "code",
   "execution_count": 14,
   "id": "07e0e0f1",
   "metadata": {},
   "outputs": [
    {
     "data": {
      "text/plain": [
       "array([0, 1, 2, 3, 4, 5])"
      ]
     },
     "execution_count": 14,
     "metadata": {},
     "output_type": "execute_result"
    }
   ],
   "source": [
    "np.arange(6)  # could also use arange"
   ]
  },
  {
   "cell_type": "markdown",
   "id": "c1359c97",
   "metadata": {},
   "source": [
    "#### Two-Dimensional Array"
   ]
  },
  {
   "cell_type": "code",
   "execution_count": 4,
   "id": "9c30e641",
   "metadata": {},
   "outputs": [
    {
     "data": {
      "text/plain": [
       "array([[1, 2],\n",
       "       [3, 4]])"
      ]
     },
     "execution_count": 4,
     "metadata": {},
     "output_type": "execute_result"
    }
   ],
   "source": [
    "# Two-dimensional array\n",
    "arr2D = np.array([[1, 2], [3, 4]])\n",
    "arr2D"
   ]
  },
  {
   "cell_type": "code",
   "execution_count": 15,
   "id": "008d106a",
   "metadata": {},
   "outputs": [
    {
     "data": {
      "text/plain": [
       "array([[ 0.67705403,  0.31831011],\n",
       "       [-0.69972465, -0.62492317]])"
      ]
     },
     "execution_count": 15,
     "metadata": {},
     "output_type": "execute_result"
    }
   ],
   "source": [
    "np.random.randn(2, 2)  # 2 * 2 matrix of random normal values with mean 0 and std 1"
   ]
  },
  {
   "cell_type": "markdown",
   "id": "b1762338",
   "metadata": {},
   "source": [
    "#### N-Dimensional Array"
   ]
  },
  {
   "cell_type": "code",
   "execution_count": 6,
   "id": "2ed2d41a",
   "metadata": {},
   "outputs": [
    {
     "data": {
      "text/plain": [
       "array([[[[ 0,  1],\n",
       "         [ 2,  3]],\n",
       "\n",
       "        [[ 4,  5],\n",
       "         [ 6,  7]]],\n",
       "\n",
       "\n",
       "       [[[ 8,  9],\n",
       "         [10, 11]],\n",
       "\n",
       "        [[12, 13],\n",
       "         [14, 15]]]])"
      ]
     },
     "execution_count": 6,
     "metadata": {},
     "output_type": "execute_result"
    }
   ],
   "source": [
    "# N-dimensional arrays\n",
    "arr4D = np.array(range(16)).reshape((2, 2, 2, 2))\n",
    "arr4D"
   ]
  },
  {
   "cell_type": "code",
   "execution_count": 10,
   "id": "817a4c64",
   "metadata": {},
   "outputs": [
    {
     "data": {
      "text/plain": [
       "array([[0., 0., 0.],\n",
       "       [0., 0., 0.]])"
      ]
     },
     "execution_count": 10,
     "metadata": {},
     "output_type": "execute_result"
    }
   ],
   "source": [
    "# Array of zeros (rows * columns)\n",
    "np.zeros(shape=(2, 3))"
   ]
  },
  {
   "cell_type": "code",
   "execution_count": 11,
   "id": "7c0acb9f",
   "metadata": {},
   "outputs": [
    {
     "data": {
      "text/plain": [
       "array([[1., 1., 1.],\n",
       "       [1., 1., 1.]])"
      ]
     },
     "execution_count": 11,
     "metadata": {},
     "output_type": "execute_result"
    }
   ],
   "source": [
    "# Array of ones\n",
    "np.ones(shape=(2, 3))"
   ]
  },
  {
   "cell_type": "code",
   "execution_count": 13,
   "id": "59bd1b64",
   "metadata": {},
   "outputs": [
    {
     "data": {
      "text/plain": [
       "array([[1., 0., 0., 0.],\n",
       "       [0., 1., 0., 0.],\n",
       "       [0., 0., 1., 0.],\n",
       "       [0., 0., 0., 1.]])"
      ]
     },
     "execution_count": 13,
     "metadata": {},
     "output_type": "execute_result"
    }
   ],
   "source": [
    "# Identity matrix\n",
    "np.identity(4)"
   ]
  },
  {
   "cell_type": "markdown",
   "id": "e3ab427a",
   "metadata": {},
   "source": [
    "#### Indexing Values"
   ]
  },
  {
   "cell_type": "code",
   "execution_count": 26,
   "id": "0979f378",
   "metadata": {},
   "outputs": [
    {
     "data": {
      "text/plain": [
       "array([[ 0.08651102,  0.59245191],\n",
       "       [-0.47987871, -0.13545191]])"
      ]
     },
     "execution_count": 26,
     "metadata": {},
     "output_type": "execute_result"
    }
   ],
   "source": [
    "rand_array = np.random.randn(2, 2)\n",
    "rand_array"
   ]
  },
  {
   "cell_type": "code",
   "execution_count": 29,
   "id": "85c33c52",
   "metadata": {},
   "outputs": [
    {
     "name": "stdout",
     "output_type": "stream",
     "text": [
      "0.0865110156455437 0.5924519138553017\n"
     ]
    }
   ],
   "source": [
    "# We access: [row, column]\n",
    "print(rand_array[0,0], rand_array[0,1])"
   ]
  },
  {
   "cell_type": "code",
   "execution_count": 36,
   "id": "ff630e2f",
   "metadata": {},
   "outputs": [
    {
     "name": "stdout",
     "output_type": "stream",
     "text": [
      "Collect all values in the second row: [[-0.47987871 -0.13545191]]\n",
      "Collect all values in the first row, from column 1:\n"
     ]
    },
    {
     "data": {
      "text/plain": [
       "array([[ 0.59245191],\n",
       "       [-0.13545191]])"
      ]
     },
     "execution_count": 36,
     "metadata": {},
     "output_type": "execute_result"
    }
   ],
   "source": [
    "# We could also do slicing\n",
    "print(\"Collect all values in the second row:\", rand_array[1:])\n",
    "\n",
    "print(\"Collect all values in the first row, from column 1:\")\n",
    "rand_array[0:, 1:]"
   ]
  },
  {
   "cell_type": "code",
   "execution_count": 37,
   "id": "127e9ef5",
   "metadata": {},
   "outputs": [
    {
     "name": "stdout",
     "output_type": "stream",
     "text": [
      "Get last row and last column: -0.1354519146353539\n"
     ]
    }
   ],
   "source": [
    "print(\"Get last row and last column:\", rand_array[-1, -1])"
   ]
  },
  {
   "cell_type": "code",
   "execution_count": 41,
   "id": "c0b08d55",
   "metadata": {},
   "outputs": [
    {
     "name": "stdout",
     "output_type": "stream",
     "text": [
      "Get everything:\n"
     ]
    },
    {
     "data": {
      "text/plain": [
       "array([[ 0.08651102,  0.59245191],\n",
       "       [-0.47987871, -0.13545191]])"
      ]
     },
     "execution_count": 41,
     "metadata": {},
     "output_type": "execute_result"
    }
   ],
   "source": [
    "print(\"Get everything:\")\n",
    "rand_array[:]"
   ]
  },
  {
   "cell_type": "markdown",
   "id": "4f7005f0",
   "metadata": {},
   "source": [
    "- TODO: Numpy Notes p.55 - 72\n",
    "\n",
    "- TODO: Pandas Notes p.74 - 109\n",
    "\n",
    "- TODO: Matplotlib Notes p.111 - 144"
   ]
  }
 ],
 "metadata": {
  "kernelspec": {
   "display_name": "Python 3 (ipykernel)",
   "language": "python",
   "name": "python3"
  },
  "language_info": {
   "codemirror_mode": {
    "name": "ipython",
    "version": 3
   },
   "file_extension": ".py",
   "mimetype": "text/x-python",
   "name": "python",
   "nbconvert_exporter": "python",
   "pygments_lexer": "ipython3",
   "version": "3.10.4"
  }
 },
 "nbformat": 4,
 "nbformat_minor": 5
}
