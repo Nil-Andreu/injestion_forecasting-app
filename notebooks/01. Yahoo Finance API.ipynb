{
 "cells": [
  {
   "cell_type": "code",
   "execution_count": 1,
   "id": "b293f88f",
   "metadata": {},
   "outputs": [],
   "source": [
    "import requests\n",
    "\n",
    "# For dates\n",
    "import datetime as dt\n",
    "from dateutil.relativedelta import relativedelta\n",
    "\n",
    "# For data analysis\n",
    "import dtale\n",
    "import numpy as np\n",
    "import pandas as pd\n",
    "import seaborn as sns\n",
    "from scipy import stats\n",
    "import statsmodels as sm\n",
    "import matplotlib.pyplot as plt\n",
    "from statsmodels.graphics.api import qqplot\n",
    "from statsmodels.tsa.filters.hp_filter import hpfilter\n",
    "\n",
    "# External resources\n",
    "from yahoo_fin.stock_info import get_data"
   ]
  },
  {
   "cell_type": "code",
   "execution_count": 2,
   "id": "7df7ae70",
   "metadata": {},
   "outputs": [],
   "source": [
    "%matplotlib inline"
   ]
  },
  {
   "cell_type": "markdown",
   "id": "faedac91",
   "metadata": {},
   "source": [
    "First, we would obtain the data for one company and analyze it.\n",
    "\n",
    "Then, once we know how this is done manually, we will automate this extraction.\n",
    "\n",
    "This data will be stored in our database, as well as in a S3 bucket."
   ]
  },
  {
   "cell_type": "markdown",
   "id": "28d31e59",
   "metadata": {},
   "source": [
    "# Amazon Prices Weekly"
   ]
  },
  {
   "cell_type": "code",
   "execution_count": 4,
   "id": "f6157e0b",
   "metadata": {},
   "outputs": [],
   "source": [
    "# If we have no data of the company, we extract last 3 years\n",
    "to_substract = dt.date.today() - relativedelta(years=3)"
   ]
  },
  {
   "cell_type": "code",
   "execution_count": 5,
   "id": "aa74b833",
   "metadata": {},
   "outputs": [
    {
     "ename": "KeyboardInterrupt",
     "evalue": "",
     "output_type": "error",
     "traceback": [
      "\u001b[0;31m---------------------------------------------------------------------------\u001b[0m",
      "\u001b[0;31mKeyboardInterrupt\u001b[0m                         Traceback (most recent call last)",
      "Input \u001b[0;32mIn [5]\u001b[0m, in \u001b[0;36m<cell line: 1>\u001b[0;34m()\u001b[0m\n\u001b[0;32m----> 1\u001b[0m amazon_weekly\u001b[38;5;241m=\u001b[39m \u001b[43mget_data\u001b[49m\u001b[43m(\u001b[49m\n\u001b[1;32m      2\u001b[0m \u001b[43m    \u001b[49m\u001b[38;5;124;43m\"\u001b[39;49m\u001b[38;5;124;43mamzn\u001b[39;49m\u001b[38;5;124;43m\"\u001b[39;49m\u001b[43m,\u001b[49m\u001b[43m \u001b[49m\n\u001b[1;32m      3\u001b[0m \u001b[43m    \u001b[49m\u001b[43mstart_date\u001b[49m\u001b[38;5;241;43m=\u001b[39;49m\u001b[43mto_substract\u001b[49m\u001b[43m,\u001b[49m\u001b[43m \u001b[49m\n\u001b[1;32m      4\u001b[0m \u001b[43m    \u001b[49m\u001b[43mindex_as_date\u001b[49m\u001b[43m \u001b[49m\u001b[38;5;241;43m=\u001b[39;49m\u001b[43m \u001b[49m\u001b[38;5;28;43;01mTrue\u001b[39;49;00m\u001b[43m,\u001b[49m\u001b[43m \u001b[49m\n\u001b[1;32m      5\u001b[0m \u001b[43m    \u001b[49m\u001b[43minterval\u001b[49m\u001b[38;5;241;43m=\u001b[39;49m\u001b[38;5;124;43m\"\u001b[39;49m\u001b[38;5;124;43m1d\u001b[39;49m\u001b[38;5;124;43m\"\u001b[39;49m\u001b[43m)\u001b[49m\n",
      "File \u001b[0;32m~/miniconda3/lib/python3.8/site-packages/yahoo_fin/stock_info.py:86\u001b[0m, in \u001b[0;36mget_data\u001b[0;34m(ticker, start_date, end_date, index_as_date, interval, headers)\u001b[0m\n\u001b[1;32m     84\u001b[0m \u001b[38;5;66;03m# build and connect to URL\u001b[39;00m\n\u001b[1;32m     85\u001b[0m site, params \u001b[38;5;241m=\u001b[39m build_url(ticker, start_date, end_date, interval)\n\u001b[0;32m---> 86\u001b[0m resp \u001b[38;5;241m=\u001b[39m \u001b[43mrequests\u001b[49m\u001b[38;5;241;43m.\u001b[39;49m\u001b[43mget\u001b[49m\u001b[43m(\u001b[49m\u001b[43msite\u001b[49m\u001b[43m,\u001b[49m\u001b[43m \u001b[49m\u001b[43mparams\u001b[49m\u001b[43m \u001b[49m\u001b[38;5;241;43m=\u001b[39;49m\u001b[43m \u001b[49m\u001b[43mparams\u001b[49m\u001b[43m,\u001b[49m\u001b[43m \u001b[49m\u001b[43mheaders\u001b[49m\u001b[43m \u001b[49m\u001b[38;5;241;43m=\u001b[39;49m\u001b[43m \u001b[49m\u001b[43mheaders\u001b[49m\u001b[43m)\u001b[49m\n\u001b[1;32m     89\u001b[0m \u001b[38;5;28;01mif\u001b[39;00m \u001b[38;5;129;01mnot\u001b[39;00m resp\u001b[38;5;241m.\u001b[39mok:\n\u001b[1;32m     90\u001b[0m     \u001b[38;5;28;01mraise\u001b[39;00m \u001b[38;5;167;01mAssertionError\u001b[39;00m(resp\u001b[38;5;241m.\u001b[39mjson())\n",
      "File \u001b[0;32m~/miniconda3/lib/python3.8/site-packages/requests/api.py:75\u001b[0m, in \u001b[0;36mget\u001b[0;34m(url, params, **kwargs)\u001b[0m\n\u001b[1;32m     64\u001b[0m \u001b[38;5;28;01mdef\u001b[39;00m \u001b[38;5;21mget\u001b[39m(url, params\u001b[38;5;241m=\u001b[39m\u001b[38;5;28;01mNone\u001b[39;00m, \u001b[38;5;241m*\u001b[39m\u001b[38;5;241m*\u001b[39mkwargs):\n\u001b[1;32m     65\u001b[0m     \u001b[38;5;124mr\u001b[39m\u001b[38;5;124;03m\"\"\"Sends a GET request.\u001b[39;00m\n\u001b[1;32m     66\u001b[0m \n\u001b[1;32m     67\u001b[0m \u001b[38;5;124;03m    :param url: URL for the new :class:`Request` object.\u001b[39;00m\n\u001b[0;32m   (...)\u001b[0m\n\u001b[1;32m     72\u001b[0m \u001b[38;5;124;03m    :rtype: requests.Response\u001b[39;00m\n\u001b[1;32m     73\u001b[0m \u001b[38;5;124;03m    \"\"\"\u001b[39;00m\n\u001b[0;32m---> 75\u001b[0m     \u001b[38;5;28;01mreturn\u001b[39;00m \u001b[43mrequest\u001b[49m\u001b[43m(\u001b[49m\u001b[38;5;124;43m'\u001b[39;49m\u001b[38;5;124;43mget\u001b[39;49m\u001b[38;5;124;43m'\u001b[39;49m\u001b[43m,\u001b[49m\u001b[43m \u001b[49m\u001b[43murl\u001b[49m\u001b[43m,\u001b[49m\u001b[43m \u001b[49m\u001b[43mparams\u001b[49m\u001b[38;5;241;43m=\u001b[39;49m\u001b[43mparams\u001b[49m\u001b[43m,\u001b[49m\u001b[43m \u001b[49m\u001b[38;5;241;43m*\u001b[39;49m\u001b[38;5;241;43m*\u001b[39;49m\u001b[43mkwargs\u001b[49m\u001b[43m)\u001b[49m\n",
      "File \u001b[0;32m~/miniconda3/lib/python3.8/site-packages/requests/api.py:61\u001b[0m, in \u001b[0;36mrequest\u001b[0;34m(method, url, **kwargs)\u001b[0m\n\u001b[1;32m     57\u001b[0m \u001b[38;5;66;03m# By using the 'with' statement we are sure the session is closed, thus we\u001b[39;00m\n\u001b[1;32m     58\u001b[0m \u001b[38;5;66;03m# avoid leaving sockets open which can trigger a ResourceWarning in some\u001b[39;00m\n\u001b[1;32m     59\u001b[0m \u001b[38;5;66;03m# cases, and look like a memory leak in others.\u001b[39;00m\n\u001b[1;32m     60\u001b[0m \u001b[38;5;28;01mwith\u001b[39;00m sessions\u001b[38;5;241m.\u001b[39mSession() \u001b[38;5;28;01mas\u001b[39;00m session:\n\u001b[0;32m---> 61\u001b[0m     \u001b[38;5;28;01mreturn\u001b[39;00m \u001b[43msession\u001b[49m\u001b[38;5;241;43m.\u001b[39;49m\u001b[43mrequest\u001b[49m\u001b[43m(\u001b[49m\u001b[43mmethod\u001b[49m\u001b[38;5;241;43m=\u001b[39;49m\u001b[43mmethod\u001b[49m\u001b[43m,\u001b[49m\u001b[43m \u001b[49m\u001b[43murl\u001b[49m\u001b[38;5;241;43m=\u001b[39;49m\u001b[43murl\u001b[49m\u001b[43m,\u001b[49m\u001b[43m \u001b[49m\u001b[38;5;241;43m*\u001b[39;49m\u001b[38;5;241;43m*\u001b[39;49m\u001b[43mkwargs\u001b[49m\u001b[43m)\u001b[49m\n",
      "File \u001b[0;32m~/miniconda3/lib/python3.8/site-packages/requests/sessions.py:529\u001b[0m, in \u001b[0;36mSession.request\u001b[0;34m(self, method, url, params, data, headers, cookies, files, auth, timeout, allow_redirects, proxies, hooks, stream, verify, cert, json)\u001b[0m\n\u001b[1;32m    524\u001b[0m send_kwargs \u001b[38;5;241m=\u001b[39m {\n\u001b[1;32m    525\u001b[0m     \u001b[38;5;124m'\u001b[39m\u001b[38;5;124mtimeout\u001b[39m\u001b[38;5;124m'\u001b[39m: timeout,\n\u001b[1;32m    526\u001b[0m     \u001b[38;5;124m'\u001b[39m\u001b[38;5;124mallow_redirects\u001b[39m\u001b[38;5;124m'\u001b[39m: allow_redirects,\n\u001b[1;32m    527\u001b[0m }\n\u001b[1;32m    528\u001b[0m send_kwargs\u001b[38;5;241m.\u001b[39mupdate(settings)\n\u001b[0;32m--> 529\u001b[0m resp \u001b[38;5;241m=\u001b[39m \u001b[38;5;28;43mself\u001b[39;49m\u001b[38;5;241;43m.\u001b[39;49m\u001b[43msend\u001b[49m\u001b[43m(\u001b[49m\u001b[43mprep\u001b[49m\u001b[43m,\u001b[49m\u001b[43m \u001b[49m\u001b[38;5;241;43m*\u001b[39;49m\u001b[38;5;241;43m*\u001b[39;49m\u001b[43msend_kwargs\u001b[49m\u001b[43m)\u001b[49m\n\u001b[1;32m    531\u001b[0m \u001b[38;5;28;01mreturn\u001b[39;00m resp\n",
      "File \u001b[0;32m~/miniconda3/lib/python3.8/site-packages/requests/sessions.py:645\u001b[0m, in \u001b[0;36mSession.send\u001b[0;34m(self, request, **kwargs)\u001b[0m\n\u001b[1;32m    642\u001b[0m start \u001b[38;5;241m=\u001b[39m preferred_clock()\n\u001b[1;32m    644\u001b[0m \u001b[38;5;66;03m# Send the request\u001b[39;00m\n\u001b[0;32m--> 645\u001b[0m r \u001b[38;5;241m=\u001b[39m \u001b[43madapter\u001b[49m\u001b[38;5;241;43m.\u001b[39;49m\u001b[43msend\u001b[49m\u001b[43m(\u001b[49m\u001b[43mrequest\u001b[49m\u001b[43m,\u001b[49m\u001b[43m \u001b[49m\u001b[38;5;241;43m*\u001b[39;49m\u001b[38;5;241;43m*\u001b[39;49m\u001b[43mkwargs\u001b[49m\u001b[43m)\u001b[49m\n\u001b[1;32m    647\u001b[0m \u001b[38;5;66;03m# Total elapsed time of the request (approximately)\u001b[39;00m\n\u001b[1;32m    648\u001b[0m elapsed \u001b[38;5;241m=\u001b[39m preferred_clock() \u001b[38;5;241m-\u001b[39m start\n",
      "File \u001b[0;32m~/miniconda3/lib/python3.8/site-packages/requests/adapters.py:440\u001b[0m, in \u001b[0;36mHTTPAdapter.send\u001b[0;34m(self, request, stream, timeout, verify, cert, proxies)\u001b[0m\n\u001b[1;32m    438\u001b[0m \u001b[38;5;28;01mtry\u001b[39;00m:\n\u001b[1;32m    439\u001b[0m     \u001b[38;5;28;01mif\u001b[39;00m \u001b[38;5;129;01mnot\u001b[39;00m chunked:\n\u001b[0;32m--> 440\u001b[0m         resp \u001b[38;5;241m=\u001b[39m \u001b[43mconn\u001b[49m\u001b[38;5;241;43m.\u001b[39;49m\u001b[43murlopen\u001b[49m\u001b[43m(\u001b[49m\n\u001b[1;32m    441\u001b[0m \u001b[43m            \u001b[49m\u001b[43mmethod\u001b[49m\u001b[38;5;241;43m=\u001b[39;49m\u001b[43mrequest\u001b[49m\u001b[38;5;241;43m.\u001b[39;49m\u001b[43mmethod\u001b[49m\u001b[43m,\u001b[49m\n\u001b[1;32m    442\u001b[0m \u001b[43m            \u001b[49m\u001b[43murl\u001b[49m\u001b[38;5;241;43m=\u001b[39;49m\u001b[43murl\u001b[49m\u001b[43m,\u001b[49m\n\u001b[1;32m    443\u001b[0m \u001b[43m            \u001b[49m\u001b[43mbody\u001b[49m\u001b[38;5;241;43m=\u001b[39;49m\u001b[43mrequest\u001b[49m\u001b[38;5;241;43m.\u001b[39;49m\u001b[43mbody\u001b[49m\u001b[43m,\u001b[49m\n\u001b[1;32m    444\u001b[0m \u001b[43m            \u001b[49m\u001b[43mheaders\u001b[49m\u001b[38;5;241;43m=\u001b[39;49m\u001b[43mrequest\u001b[49m\u001b[38;5;241;43m.\u001b[39;49m\u001b[43mheaders\u001b[49m\u001b[43m,\u001b[49m\n\u001b[1;32m    445\u001b[0m \u001b[43m            \u001b[49m\u001b[43mredirect\u001b[49m\u001b[38;5;241;43m=\u001b[39;49m\u001b[38;5;28;43;01mFalse\u001b[39;49;00m\u001b[43m,\u001b[49m\n\u001b[1;32m    446\u001b[0m \u001b[43m            \u001b[49m\u001b[43massert_same_host\u001b[49m\u001b[38;5;241;43m=\u001b[39;49m\u001b[38;5;28;43;01mFalse\u001b[39;49;00m\u001b[43m,\u001b[49m\n\u001b[1;32m    447\u001b[0m \u001b[43m            \u001b[49m\u001b[43mpreload_content\u001b[49m\u001b[38;5;241;43m=\u001b[39;49m\u001b[38;5;28;43;01mFalse\u001b[39;49;00m\u001b[43m,\u001b[49m\n\u001b[1;32m    448\u001b[0m \u001b[43m            \u001b[49m\u001b[43mdecode_content\u001b[49m\u001b[38;5;241;43m=\u001b[39;49m\u001b[38;5;28;43;01mFalse\u001b[39;49;00m\u001b[43m,\u001b[49m\n\u001b[1;32m    449\u001b[0m \u001b[43m            \u001b[49m\u001b[43mretries\u001b[49m\u001b[38;5;241;43m=\u001b[39;49m\u001b[38;5;28;43mself\u001b[39;49m\u001b[38;5;241;43m.\u001b[39;49m\u001b[43mmax_retries\u001b[49m\u001b[43m,\u001b[49m\n\u001b[1;32m    450\u001b[0m \u001b[43m            \u001b[49m\u001b[43mtimeout\u001b[49m\u001b[38;5;241;43m=\u001b[39;49m\u001b[43mtimeout\u001b[49m\n\u001b[1;32m    451\u001b[0m \u001b[43m        \u001b[49m\u001b[43m)\u001b[49m\n\u001b[1;32m    453\u001b[0m     \u001b[38;5;66;03m# Send the request.\u001b[39;00m\n\u001b[1;32m    454\u001b[0m     \u001b[38;5;28;01melse\u001b[39;00m:\n\u001b[1;32m    455\u001b[0m         \u001b[38;5;28;01mif\u001b[39;00m \u001b[38;5;28mhasattr\u001b[39m(conn, \u001b[38;5;124m'\u001b[39m\u001b[38;5;124mproxy_pool\u001b[39m\u001b[38;5;124m'\u001b[39m):\n",
      "File \u001b[0;32m~/miniconda3/lib/python3.8/site-packages/urllib3/connectionpool.py:703\u001b[0m, in \u001b[0;36mHTTPConnectionPool.urlopen\u001b[0;34m(self, method, url, body, headers, retries, redirect, assert_same_host, timeout, pool_timeout, release_conn, chunked, body_pos, **response_kw)\u001b[0m\n\u001b[1;32m    700\u001b[0m     \u001b[38;5;28mself\u001b[39m\u001b[38;5;241m.\u001b[39m_prepare_proxy(conn)\n\u001b[1;32m    702\u001b[0m \u001b[38;5;66;03m# Make the request on the httplib connection object.\u001b[39;00m\n\u001b[0;32m--> 703\u001b[0m httplib_response \u001b[38;5;241m=\u001b[39m \u001b[38;5;28;43mself\u001b[39;49m\u001b[38;5;241;43m.\u001b[39;49m\u001b[43m_make_request\u001b[49m\u001b[43m(\u001b[49m\n\u001b[1;32m    704\u001b[0m \u001b[43m    \u001b[49m\u001b[43mconn\u001b[49m\u001b[43m,\u001b[49m\n\u001b[1;32m    705\u001b[0m \u001b[43m    \u001b[49m\u001b[43mmethod\u001b[49m\u001b[43m,\u001b[49m\n\u001b[1;32m    706\u001b[0m \u001b[43m    \u001b[49m\u001b[43murl\u001b[49m\u001b[43m,\u001b[49m\n\u001b[1;32m    707\u001b[0m \u001b[43m    \u001b[49m\u001b[43mtimeout\u001b[49m\u001b[38;5;241;43m=\u001b[39;49m\u001b[43mtimeout_obj\u001b[49m\u001b[43m,\u001b[49m\n\u001b[1;32m    708\u001b[0m \u001b[43m    \u001b[49m\u001b[43mbody\u001b[49m\u001b[38;5;241;43m=\u001b[39;49m\u001b[43mbody\u001b[49m\u001b[43m,\u001b[49m\n\u001b[1;32m    709\u001b[0m \u001b[43m    \u001b[49m\u001b[43mheaders\u001b[49m\u001b[38;5;241;43m=\u001b[39;49m\u001b[43mheaders\u001b[49m\u001b[43m,\u001b[49m\n\u001b[1;32m    710\u001b[0m \u001b[43m    \u001b[49m\u001b[43mchunked\u001b[49m\u001b[38;5;241;43m=\u001b[39;49m\u001b[43mchunked\u001b[49m\u001b[43m,\u001b[49m\n\u001b[1;32m    711\u001b[0m \u001b[43m\u001b[49m\u001b[43m)\u001b[49m\n\u001b[1;32m    713\u001b[0m \u001b[38;5;66;03m# If we're going to release the connection in ``finally:``, then\u001b[39;00m\n\u001b[1;32m    714\u001b[0m \u001b[38;5;66;03m# the response doesn't need to know about the connection. Otherwise\u001b[39;00m\n\u001b[1;32m    715\u001b[0m \u001b[38;5;66;03m# it will also try to release it and we'll have a double-release\u001b[39;00m\n\u001b[1;32m    716\u001b[0m \u001b[38;5;66;03m# mess.\u001b[39;00m\n\u001b[1;32m    717\u001b[0m response_conn \u001b[38;5;241m=\u001b[39m conn \u001b[38;5;28;01mif\u001b[39;00m \u001b[38;5;129;01mnot\u001b[39;00m release_conn \u001b[38;5;28;01melse\u001b[39;00m \u001b[38;5;28;01mNone\u001b[39;00m\n",
      "File \u001b[0;32m~/miniconda3/lib/python3.8/site-packages/urllib3/connectionpool.py:386\u001b[0m, in \u001b[0;36mHTTPConnectionPool._make_request\u001b[0;34m(self, conn, method, url, timeout, chunked, **httplib_request_kw)\u001b[0m\n\u001b[1;32m    384\u001b[0m \u001b[38;5;66;03m# Trigger any extra validation we need to do.\u001b[39;00m\n\u001b[1;32m    385\u001b[0m \u001b[38;5;28;01mtry\u001b[39;00m:\n\u001b[0;32m--> 386\u001b[0m     \u001b[38;5;28;43mself\u001b[39;49m\u001b[38;5;241;43m.\u001b[39;49m\u001b[43m_validate_conn\u001b[49m\u001b[43m(\u001b[49m\u001b[43mconn\u001b[49m\u001b[43m)\u001b[49m\n\u001b[1;32m    387\u001b[0m \u001b[38;5;28;01mexcept\u001b[39;00m (SocketTimeout, BaseSSLError) \u001b[38;5;28;01mas\u001b[39;00m e:\n\u001b[1;32m    388\u001b[0m     \u001b[38;5;66;03m# Py2 raises this as a BaseSSLError, Py3 raises it as socket timeout.\u001b[39;00m\n\u001b[1;32m    389\u001b[0m     \u001b[38;5;28mself\u001b[39m\u001b[38;5;241m.\u001b[39m_raise_timeout(err\u001b[38;5;241m=\u001b[39me, url\u001b[38;5;241m=\u001b[39murl, timeout_value\u001b[38;5;241m=\u001b[39mconn\u001b[38;5;241m.\u001b[39mtimeout)\n",
      "File \u001b[0;32m~/miniconda3/lib/python3.8/site-packages/urllib3/connectionpool.py:1040\u001b[0m, in \u001b[0;36mHTTPSConnectionPool._validate_conn\u001b[0;34m(self, conn)\u001b[0m\n\u001b[1;32m   1038\u001b[0m \u001b[38;5;66;03m# Force connect early to allow us to validate the connection.\u001b[39;00m\n\u001b[1;32m   1039\u001b[0m \u001b[38;5;28;01mif\u001b[39;00m \u001b[38;5;129;01mnot\u001b[39;00m \u001b[38;5;28mgetattr\u001b[39m(conn, \u001b[38;5;124m\"\u001b[39m\u001b[38;5;124msock\u001b[39m\u001b[38;5;124m\"\u001b[39m, \u001b[38;5;28;01mNone\u001b[39;00m):  \u001b[38;5;66;03m# AppEngine might not have  `.sock`\u001b[39;00m\n\u001b[0;32m-> 1040\u001b[0m     \u001b[43mconn\u001b[49m\u001b[38;5;241;43m.\u001b[39;49m\u001b[43mconnect\u001b[49m\u001b[43m(\u001b[49m\u001b[43m)\u001b[49m\n\u001b[1;32m   1042\u001b[0m \u001b[38;5;28;01mif\u001b[39;00m \u001b[38;5;129;01mnot\u001b[39;00m conn\u001b[38;5;241m.\u001b[39mis_verified:\n\u001b[1;32m   1043\u001b[0m     warnings\u001b[38;5;241m.\u001b[39mwarn(\n\u001b[1;32m   1044\u001b[0m         (\n\u001b[1;32m   1045\u001b[0m             \u001b[38;5;124m\"\u001b[39m\u001b[38;5;124mUnverified HTTPS request is being made to host \u001b[39m\u001b[38;5;124m'\u001b[39m\u001b[38;5;132;01m%s\u001b[39;00m\u001b[38;5;124m'\u001b[39m\u001b[38;5;124m. \u001b[39m\u001b[38;5;124m\"\u001b[39m\n\u001b[0;32m   (...)\u001b[0m\n\u001b[1;32m   1050\u001b[0m         InsecureRequestWarning,\n\u001b[1;32m   1051\u001b[0m     )\n",
      "File \u001b[0;32m~/miniconda3/lib/python3.8/site-packages/urllib3/connection.py:358\u001b[0m, in \u001b[0;36mHTTPSConnection.connect\u001b[0;34m(self)\u001b[0m\n\u001b[1;32m    356\u001b[0m \u001b[38;5;28;01mdef\u001b[39;00m \u001b[38;5;21mconnect\u001b[39m(\u001b[38;5;28mself\u001b[39m):\n\u001b[1;32m    357\u001b[0m     \u001b[38;5;66;03m# Add certificate verification\u001b[39;00m\n\u001b[0;32m--> 358\u001b[0m     conn \u001b[38;5;241m=\u001b[39m \u001b[38;5;28;43mself\u001b[39;49m\u001b[38;5;241;43m.\u001b[39;49m\u001b[43m_new_conn\u001b[49m\u001b[43m(\u001b[49m\u001b[43m)\u001b[49m\n\u001b[1;32m    359\u001b[0m     hostname \u001b[38;5;241m=\u001b[39m \u001b[38;5;28mself\u001b[39m\u001b[38;5;241m.\u001b[39mhost\n\u001b[1;32m    360\u001b[0m     tls_in_tls \u001b[38;5;241m=\u001b[39m \u001b[38;5;28;01mFalse\u001b[39;00m\n",
      "File \u001b[0;32m~/miniconda3/lib/python3.8/site-packages/urllib3/connection.py:174\u001b[0m, in \u001b[0;36mHTTPConnection._new_conn\u001b[0;34m(self)\u001b[0m\n\u001b[1;32m    171\u001b[0m     extra_kw[\u001b[38;5;124m\"\u001b[39m\u001b[38;5;124msocket_options\u001b[39m\u001b[38;5;124m\"\u001b[39m] \u001b[38;5;241m=\u001b[39m \u001b[38;5;28mself\u001b[39m\u001b[38;5;241m.\u001b[39msocket_options\n\u001b[1;32m    173\u001b[0m \u001b[38;5;28;01mtry\u001b[39;00m:\n\u001b[0;32m--> 174\u001b[0m     conn \u001b[38;5;241m=\u001b[39m \u001b[43mconnection\u001b[49m\u001b[38;5;241;43m.\u001b[39;49m\u001b[43mcreate_connection\u001b[49m\u001b[43m(\u001b[49m\n\u001b[1;32m    175\u001b[0m \u001b[43m        \u001b[49m\u001b[43m(\u001b[49m\u001b[38;5;28;43mself\u001b[39;49m\u001b[38;5;241;43m.\u001b[39;49m\u001b[43m_dns_host\u001b[49m\u001b[43m,\u001b[49m\u001b[43m \u001b[49m\u001b[38;5;28;43mself\u001b[39;49m\u001b[38;5;241;43m.\u001b[39;49m\u001b[43mport\u001b[49m\u001b[43m)\u001b[49m\u001b[43m,\u001b[49m\u001b[43m \u001b[49m\u001b[38;5;28;43mself\u001b[39;49m\u001b[38;5;241;43m.\u001b[39;49m\u001b[43mtimeout\u001b[49m\u001b[43m,\u001b[49m\u001b[43m \u001b[49m\u001b[38;5;241;43m*\u001b[39;49m\u001b[38;5;241;43m*\u001b[39;49m\u001b[43mextra_kw\u001b[49m\n\u001b[1;32m    176\u001b[0m \u001b[43m    \u001b[49m\u001b[43m)\u001b[49m\n\u001b[1;32m    178\u001b[0m \u001b[38;5;28;01mexcept\u001b[39;00m SocketTimeout:\n\u001b[1;32m    179\u001b[0m     \u001b[38;5;28;01mraise\u001b[39;00m ConnectTimeoutError(\n\u001b[1;32m    180\u001b[0m         \u001b[38;5;28mself\u001b[39m,\n\u001b[1;32m    181\u001b[0m         \u001b[38;5;124m\"\u001b[39m\u001b[38;5;124mConnection to \u001b[39m\u001b[38;5;132;01m%s\u001b[39;00m\u001b[38;5;124m timed out. (connect timeout=\u001b[39m\u001b[38;5;132;01m%s\u001b[39;00m\u001b[38;5;124m)\u001b[39m\u001b[38;5;124m\"\u001b[39m\n\u001b[1;32m    182\u001b[0m         \u001b[38;5;241m%\u001b[39m (\u001b[38;5;28mself\u001b[39m\u001b[38;5;241m.\u001b[39mhost, \u001b[38;5;28mself\u001b[39m\u001b[38;5;241m.\u001b[39mtimeout),\n\u001b[1;32m    183\u001b[0m     )\n",
      "File \u001b[0;32m~/miniconda3/lib/python3.8/site-packages/urllib3/util/connection.py:85\u001b[0m, in \u001b[0;36mcreate_connection\u001b[0;34m(address, timeout, source_address, socket_options)\u001b[0m\n\u001b[1;32m     83\u001b[0m     \u001b[38;5;28;01mif\u001b[39;00m source_address:\n\u001b[1;32m     84\u001b[0m         sock\u001b[38;5;241m.\u001b[39mbind(source_address)\n\u001b[0;32m---> 85\u001b[0m     \u001b[43msock\u001b[49m\u001b[38;5;241;43m.\u001b[39;49m\u001b[43mconnect\u001b[49m\u001b[43m(\u001b[49m\u001b[43msa\u001b[49m\u001b[43m)\u001b[49m\n\u001b[1;32m     86\u001b[0m     \u001b[38;5;28;01mreturn\u001b[39;00m sock\n\u001b[1;32m     88\u001b[0m \u001b[38;5;28;01mexcept\u001b[39;00m socket\u001b[38;5;241m.\u001b[39merror \u001b[38;5;28;01mas\u001b[39;00m e:\n",
      "\u001b[0;31mKeyboardInterrupt\u001b[0m: "
     ]
    }
   ],
   "source": [
    "amazon_weekly= get_data(\n",
    "    \"amzn\", \n",
    "    start_date=to_substract, \n",
    "    index_as_date = True, \n",
    "    interval=\"1d\")"
   ]
  },
  {
   "cell_type": "code",
   "execution_count": null,
   "id": "5dae8888",
   "metadata": {},
   "outputs": [],
   "source": [
    "dtale.show(amazon_weekly)"
   ]
  },
  {
   "cell_type": "code",
   "execution_count": null,
   "id": "7166b412",
   "metadata": {},
   "outputs": [],
   "source": [
    "# We will now make an analysis of this data\n",
    "amazon_weekly.describe()"
   ]
  },
  {
   "cell_type": "markdown",
   "id": "7d03d3e2",
   "metadata": {},
   "source": [
    "### Handling NaNs"
   ]
  },
  {
   "cell_type": "code",
   "execution_count": null,
   "id": "5e53c446",
   "metadata": {},
   "outputs": [],
   "source": [
    "# Check if there are any null values\n",
    "amazon_weekly.isnull().sum(axis=0)"
   ]
  },
  {
   "cell_type": "code",
   "execution_count": null,
   "id": "e093d397",
   "metadata": {},
   "outputs": [],
   "source": [
    "# We would not know if for some company we would have any null value, and is something we would have to handle\n",
    "if amazon_weekly.isnull().any().sum() != 0:\n",
    "    \n",
    "    # We wou'ld fill the na with the last valid value\n",
    "    amazon_weekly.fillna(method=\"backfill\")"
   ]
  },
  {
   "cell_type": "code",
   "execution_count": null,
   "id": "daa40152",
   "metadata": {},
   "outputs": [],
   "source": [
    "# A function would be like the following\n",
    "def handle_nan(df, method=\"backfill\"):\n",
    "    \n",
    "    return df.fillna(method=method)"
   ]
  },
  {
   "cell_type": "markdown",
   "id": "23bc070b",
   "metadata": {},
   "source": [
    "### Visualize Evolution"
   ]
  },
  {
   "cell_type": "code",
   "execution_count": null,
   "id": "5b0dc8cc",
   "metadata": {},
   "outputs": [],
   "source": [
    "# We can make a plot of the evolution of the prices\n",
    "amazon_weekly[\"open\"].plot(figsize=(20,6), linestyle=\"--\", color=\"black\", legend=\"Open Price of Week\")\n",
    "amazon_weekly[\"high\"].plot(figsize=(20,6), linestyle=\"-\", color=\"black\", legend=\"High Price of Week\")\n",
    "amazon_weekly[\"low\"].plot(figsize=(20,6), linestyle=\":\", color=\"black\", legend=\"Low Price of Week\")\n",
    "amazon_weekly[\"close\"].plot(figsize=(20,6), linestyle=\"-.\", color=\"black\", legend=\"Close Price of Week\")\n",
    "\n",
    "plt.title(\"Evolution of the price\")\n",
    "plt.xlabel(\"Date in Weeks\")\n",
    "plt.ylabel(\"Price in $ of each Share\")"
   ]
  },
  {
   "cell_type": "markdown",
   "id": "0b5fbd26",
   "metadata": {},
   "source": [
    "### Handling Outliers"
   ]
  },
  {
   "cell_type": "markdown",
   "id": "0768a678",
   "metadata": {},
   "source": [
    "In this case we do not have outliers, but it is one scenario we would have to handle.\n",
    "\n",
    "There are two ways to check for outliers:\n",
    "- **Inter-Quantile Range**: we use extreme percentil values, of 5% and 95%, to minimize risk of removing correct data points.\n",
    "- **Z-Score**: represents the distance of the data point in the number of standard deviations away from mean. For a large dataset, for the rule of large numbers, there is 1% chance of a data point having a value of >= 3."
   ]
  },
  {
   "cell_type": "code",
   "execution_count": null,
   "id": "09e94b02",
   "metadata": {},
   "outputs": [],
   "source": [
    "# We will use stats to compute the z-score\n",
    "prices_amazon = amazon_weekly.drop([\"adjclose\", \"volume\", \"ticker\"], axis=1)"
   ]
  },
  {
   "cell_type": "code",
   "execution_count": null,
   "id": "e7b855d2",
   "metadata": {},
   "outputs": [],
   "source": [
    "# We can compute the Z-Score in the following way\n",
    "stats.zscore(prices_amazon)"
   ]
  },
  {
   "cell_type": "code",
   "execution_count": null,
   "id": "e9f7c348",
   "metadata": {},
   "outputs": [],
   "source": [
    "# And now we can see if some absolute value of z-score is higher than 3 (would be a parameter of sensibility)\n",
    "prices_amazon[(np.abs(stats.zscore(prices_amazon)) > 3).all(axis=1)]"
   ]
  },
  {
   "cell_type": "code",
   "execution_count": null,
   "id": "22359d5e",
   "metadata": {},
   "outputs": [],
   "source": [
    "# And in the case of outliers, we would remove them by index\n",
    "prices_amazon_cleaned = prices_amazon.\\\n",
    "    drop(prices_amazon[(np.abs(stats.zscore(prices_amazon)) > 3).all(axis=1)].index)\n",
    "prices_amazon_cleaned"
   ]
  },
  {
   "cell_type": "code",
   "execution_count": null,
   "id": "5e5258d4",
   "metadata": {},
   "outputs": [],
   "source": [
    "# So the function would be the following\n",
    "def clean_outliers_z_score(df, threshold):\n",
    "    return df.drop(df[(np.abs(stats.zscore(df)) > threshold).all(axis=1)].index)"
   ]
  },
  {
   "cell_type": "code",
   "execution_count": null,
   "id": "f8b96f2a",
   "metadata": {},
   "outputs": [],
   "source": [
    "# And we will also apply the inter quantile range\n",
    "first_quantile = delta_prices_perc[\"Delta Open Perc\"].quantile(.25)\n",
    "third_quantile = delta_prices_perc[\"Delta Open Perc\"].quantile(.75)\n",
    "inter_quantile_range = third_quantile - first_quantile\n",
    "\n",
    "print(\"First quantile: \", first_quantile)\n",
    "print(\"Third quantile: \", third_quantile)\n",
    "print(\"Inter quantile range: \", inter_quantile_range)"
   ]
  },
  {
   "cell_type": "code",
   "execution_count": null,
   "id": "3c4484b9",
   "metadata": {},
   "outputs": [],
   "source": [
    "# And we will get rid of the oned that are 1.5 * first/third_quantile\n",
    "delta_prices_perc[delta_prices_perc[\"Delta Open Perc\"] < -1.5 * inter_quantile_range - first_quantile]"
   ]
  },
  {
   "cell_type": "code",
   "execution_count": null,
   "id": "a61fea5a",
   "metadata": {},
   "outputs": [],
   "source": [
    "delta_prices_perc[delta_prices_perc[\"Delta Open Perc\"] > 1.5 * inter_quantile_range + third_quantile]"
   ]
  },
  {
   "cell_type": "code",
   "execution_count": null,
   "id": "ec2ab66b",
   "metadata": {},
   "outputs": [],
   "source": [
    "# So the function would be the following\n",
    "def clean_outliers_iqr(df, field, threshold):\n",
    "    df = df.drop(df[\n",
    "        df[field] < -threshold * inter_quantile_range - first_quantile\n",
    "    ].index, axis=0)\n",
    "    \n",
    "    df = df.drop(df[\n",
    "        df[field] > threshold * inter_quantile_range + first_quantile\n",
    "    ].index, axis=0)\n",
    "    \n",
    "    return df"
   ]
  },
  {
   "cell_type": "code",
   "execution_count": null,
   "id": "e1d220ef",
   "metadata": {},
   "outputs": [],
   "source": [
    "# TODO: Maybe first remove non-stationarity\n",
    "clean_outliers_iqr(delta_prices_perc, \"Delta Open Perc\", 2.5)"
   ]
  },
  {
   "cell_type": "code",
   "execution_count": null,
   "id": "92878916",
   "metadata": {},
   "outputs": [],
   "source": [
    "delta_prices_perc"
   ]
  },
  {
   "cell_type": "markdown",
   "id": "3307543a",
   "metadata": {},
   "source": [
    "### Univariate Analysis"
   ]
  },
  {
   "cell_type": "code",
   "execution_count": null,
   "id": "2d17c648",
   "metadata": {},
   "outputs": [],
   "source": [
    "# Next thing to do, is to make an univariate and bivariate analysis\n",
    "delta_prices = prices_amazon_cleaned.shift(-1) - prices_amazon_cleaned\n",
    "delta_prices = delta_prices.fillna(0)\n",
    "delta_prices.columns = [\"Delta Open\", \"Delta High\", \"Delta Low\", \"Delta Close\"]\n",
    "delta_prices"
   ]
  },
  {
   "cell_type": "code",
   "execution_count": null,
   "id": "9d40e080",
   "metadata": {},
   "outputs": [],
   "source": [
    "delta_prices.describe()"
   ]
  },
  {
   "cell_type": "code",
   "execution_count": null,
   "id": "5ba1fffc",
   "metadata": {},
   "outputs": [],
   "source": [
    "delta_prices[\"Delta Close\"].plot(kind=\"hist\", bins=100, figsize=(12, 6), color=\"gray\")"
   ]
  },
  {
   "cell_type": "markdown",
   "id": "30c036cd",
   "metadata": {},
   "source": [
    "We could see that the delta means are approximately around 0 in absolute values, but +"
   ]
  },
  {
   "cell_type": "code",
   "execution_count": null,
   "id": "80c70c06",
   "metadata": {},
   "outputs": [],
   "source": [
    "# Next thing to do, is to make an univariate and bivariate analysis\n",
    "delta_prices_perc = (prices_amazon_cleaned.shift(-1) - prices_amazon_cleaned) / prices_amazon_cleaned.shift(-1)\n",
    "delta_prices_perc = delta_prices_perc.fillna(0)\n",
    "delta_prices_perc.columns = [\"Delta Open Perc\", \"Delta High Perc\", \"Delta Low Perc\", \"Delta Close Perc\"]\n",
    "delta_prices_perc"
   ]
  },
  {
   "cell_type": "code",
   "execution_count": null,
   "id": "dfec3514",
   "metadata": {},
   "outputs": [],
   "source": [
    "# And now we would see that the mean is around +0.2%\n",
    "delta_prices_perc.describe()"
   ]
  },
  {
   "cell_type": "code",
   "execution_count": null,
   "id": "26a21698",
   "metadata": {},
   "outputs": [],
   "source": [
    "delta_prices_perc[\"Delta Close Perc\"].plot(kind=\"hist\", bins=100, figsize=(12, 6), color=\"gray\")"
   ]
  },
  {
   "cell_type": "code",
   "execution_count": null,
   "id": "29963df2",
   "metadata": {},
   "outputs": [],
   "source": [
    "# We could make a normal distribution test with Q-Q plot\n",
    "fig = qqplot(delta_prices_perc[\"Delta Close Perc\"], line=\"s\")"
   ]
  },
  {
   "cell_type": "markdown",
   "id": "86fddc36",
   "metadata": {},
   "source": [
    "We can see that with large numbers, the variations of the prices follow a normal distribution.\n",
    "\n",
    "Also, we can see that overall, that the QQ plot has an overlap of the lines in most part.\n",
    "\n",
    "Having this assumption of normal distribution is important for many statistical methods."
   ]
  },
  {
   "cell_type": "code",
   "execution_count": null,
   "id": "6c8f23ab",
   "metadata": {},
   "outputs": [],
   "source": [
    "# We could also display a boxplot to know how it this variation\n",
    "delta_prices_perc[\"Delta Close Perc\"].plot(kind=\"box\", figsize=(12, 6), color=\"gray\")"
   ]
  },
  {
   "cell_type": "code",
   "execution_count": 155,
   "id": "8e403a03",
   "metadata": {},
   "outputs": [
    {
     "data": {
      "text/html": [
       "<div>\n",
       "<style scoped>\n",
       "    .dataframe tbody tr th:only-of-type {\n",
       "        vertical-align: middle;\n",
       "    }\n",
       "\n",
       "    .dataframe tbody tr th {\n",
       "        vertical-align: top;\n",
       "    }\n",
       "\n",
       "    .dataframe thead th {\n",
       "        text-align: right;\n",
       "    }\n",
       "</style>\n",
       "<table border=\"1\" class=\"dataframe\">\n",
       "  <thead>\n",
       "    <tr style=\"text-align: right;\">\n",
       "      <th></th>\n",
       "      <th>Delta Open Perc</th>\n",
       "      <th>Delta High Perc</th>\n",
       "      <th>Delta Low Perc</th>\n",
       "      <th>Delta Close Perc</th>\n",
       "    </tr>\n",
       "  </thead>\n",
       "  <tbody>\n",
       "    <tr>\n",
       "      <th>2019-10-24</th>\n",
       "      <td>-0.043321</td>\n",
       "      <td>-0.013677</td>\n",
       "      <td>-0.038507</td>\n",
       "      <td>-0.011043</td>\n",
       "    </tr>\n",
       "    <tr>\n",
       "      <th>2019-12-02</th>\n",
       "      <td>-0.025227</td>\n",
       "      <td>-0.018433</td>\n",
       "      <td>-0.008843</td>\n",
       "      <td>-0.006576</td>\n",
       "    </tr>\n",
       "    <tr>\n",
       "      <th>2020-01-24</th>\n",
       "      <td>-0.039214</td>\n",
       "      <td>-0.029326</td>\n",
       "      <td>-0.017683</td>\n",
       "      <td>-0.018213</td>\n",
       "    </tr>\n",
       "    <tr>\n",
       "      <th>2020-02-21</th>\n",
       "      <td>-0.069375</td>\n",
       "      <td>-0.051611</td>\n",
       "      <td>-0.050318</td>\n",
       "      <td>-0.043140</td>\n",
       "    </tr>\n",
       "    <tr>\n",
       "      <th>2020-02-25</th>\n",
       "      <td>-0.028493</td>\n",
       "      <td>-0.009892</td>\n",
       "      <td>0.001035</td>\n",
       "      <td>0.003460</td>\n",
       "    </tr>\n",
       "    <tr>\n",
       "      <th>...</th>\n",
       "      <td>...</td>\n",
       "      <td>...</td>\n",
       "      <td>...</td>\n",
       "      <td>...</td>\n",
       "    </tr>\n",
       "    <tr>\n",
       "      <th>2022-08-26</th>\n",
       "      <td>-0.051193</td>\n",
       "      <td>-0.044562</td>\n",
       "      <td>-0.013435</td>\n",
       "      <td>-0.007397</td>\n",
       "    </tr>\n",
       "    <tr>\n",
       "      <th>2022-08-31</th>\n",
       "      <td>-0.027381</td>\n",
       "      <td>-0.020075</td>\n",
       "      <td>-0.024907</td>\n",
       "      <td>0.008215</td>\n",
       "    </tr>\n",
       "    <tr>\n",
       "      <th>2022-09-13</th>\n",
       "      <td>-0.028659</td>\n",
       "      <td>-0.019870</td>\n",
       "      <td>0.000475</td>\n",
       "      <td>0.013458</td>\n",
       "    </tr>\n",
       "    <tr>\n",
       "      <th>2022-09-15</th>\n",
       "      <td>-0.037465</td>\n",
       "      <td>-0.052474</td>\n",
       "      <td>-0.039768</td>\n",
       "      <td>-0.022262</td>\n",
       "    </tr>\n",
       "    <tr>\n",
       "      <th>2022-09-21</th>\n",
       "      <td>-0.046208</td>\n",
       "      <td>-0.041839</td>\n",
       "      <td>-0.018837</td>\n",
       "      <td>-0.010485</td>\n",
       "    </tr>\n",
       "  </tbody>\n",
       "</table>\n",
       "<p>90 rows × 4 columns</p>\n",
       "</div>"
      ],
      "text/plain": [
       "            Delta Open Perc  Delta High Perc  Delta Low Perc  Delta Close Perc\n",
       "2019-10-24        -0.043321        -0.013677       -0.038507         -0.011043\n",
       "2019-12-02        -0.025227        -0.018433       -0.008843         -0.006576\n",
       "2020-01-24        -0.039214        -0.029326       -0.017683         -0.018213\n",
       "2020-02-21        -0.069375        -0.051611       -0.050318         -0.043140\n",
       "2020-02-25        -0.028493        -0.009892        0.001035          0.003460\n",
       "...                     ...              ...             ...               ...\n",
       "2022-08-26        -0.051193        -0.044562       -0.013435         -0.007397\n",
       "2022-08-31        -0.027381        -0.020075       -0.024907          0.008215\n",
       "2022-09-13        -0.028659        -0.019870        0.000475          0.013458\n",
       "2022-09-15        -0.037465        -0.052474       -0.039768         -0.022262\n",
       "2022-09-21        -0.046208        -0.041839       -0.018837         -0.010485\n",
       "\n",
       "[90 rows x 4 columns]"
      ]
     },
     "execution_count": 155,
     "metadata": {},
     "output_type": "execute_result"
    }
   ],
   "source": []
  },
  {
   "cell_type": "code",
   "execution_count": null,
   "id": "dcbe4067",
   "metadata": {},
   "outputs": [],
   "source": [
    "delta_prices_perc[delta_prices_perc[\"Delta Open Perc\"] > 1.5 * inter_quantile_range + third_quantile]"
   ]
  },
  {
   "cell_type": "code",
   "execution_count": 152,
   "id": "e4d4319c",
   "metadata": {},
   "outputs": [
    {
     "data": {
      "text/html": [
       "<div>\n",
       "<style scoped>\n",
       "    .dataframe tbody tr th:only-of-type {\n",
       "        vertical-align: middle;\n",
       "    }\n",
       "\n",
       "    .dataframe tbody tr th {\n",
       "        vertical-align: top;\n",
       "    }\n",
       "\n",
       "    .dataframe thead th {\n",
       "        text-align: right;\n",
       "    }\n",
       "</style>\n",
       "<table border=\"1\" class=\"dataframe\">\n",
       "  <thead>\n",
       "    <tr style=\"text-align: right;\">\n",
       "      <th></th>\n",
       "      <th>Delta Open Perc</th>\n",
       "      <th>Delta High Perc</th>\n",
       "      <th>Delta Low Perc</th>\n",
       "      <th>Delta Close Perc</th>\n",
       "    </tr>\n",
       "  </thead>\n",
       "  <tbody>\n",
       "    <tr>\n",
       "      <th>2019-09-26</th>\n",
       "      <td>-0.008461</td>\n",
       "      <td>-0.008147</td>\n",
       "      <td>-0.010316</td>\n",
       "      <td>-0.008340</td>\n",
       "    </tr>\n",
       "    <tr>\n",
       "      <th>2019-09-27</th>\n",
       "      <td>-0.012166</td>\n",
       "      <td>-0.006711</td>\n",
       "      <td>-0.002691</td>\n",
       "      <td>0.006026</td>\n",
       "    </tr>\n",
       "    <tr>\n",
       "      <th>2019-09-30</th>\n",
       "      <td>0.010888</td>\n",
       "      <td>0.010333</td>\n",
       "      <td>0.011103</td>\n",
       "      <td>-0.000150</td>\n",
       "    </tr>\n",
       "    <tr>\n",
       "      <th>2019-10-01</th>\n",
       "      <td>-0.010569</td>\n",
       "      <td>-0.015449</td>\n",
       "      <td>-0.013730</td>\n",
       "      <td>-0.013086</td>\n",
       "    </tr>\n",
       "    <tr>\n",
       "      <th>2019-10-02</th>\n",
       "      <td>-0.008605</td>\n",
       "      <td>-0.002255</td>\n",
       "      <td>-0.011833</td>\n",
       "      <td>0.006489</td>\n",
       "    </tr>\n",
       "    <tr>\n",
       "      <th>...</th>\n",
       "      <td>...</td>\n",
       "      <td>...</td>\n",
       "      <td>...</td>\n",
       "      <td>...</td>\n",
       "    </tr>\n",
       "    <tr>\n",
       "      <th>2022-09-19</th>\n",
       "      <td>0.009647</td>\n",
       "      <td>-0.002492</td>\n",
       "      <td>-0.005448</td>\n",
       "      <td>-0.020214</td>\n",
       "    </tr>\n",
       "    <tr>\n",
       "      <th>2022-09-20</th>\n",
       "      <td>-0.007021</td>\n",
       "      <td>-0.005171</td>\n",
       "      <td>-0.022710</td>\n",
       "      <td>-0.030791</td>\n",
       "    </tr>\n",
       "    <tr>\n",
       "      <th>2022-09-21</th>\n",
       "      <td>-0.046208</td>\n",
       "      <td>-0.041839</td>\n",
       "      <td>-0.018837</td>\n",
       "      <td>-0.010485</td>\n",
       "    </tr>\n",
       "    <tr>\n",
       "      <th>2022-09-22</th>\n",
       "      <td>-0.009310</td>\n",
       "      <td>-0.023610</td>\n",
       "      <td>-0.037480</td>\n",
       "      <td>-0.031025</td>\n",
       "    </tr>\n",
       "    <tr>\n",
       "      <th>2022-09-23</th>\n",
       "      <td>0.000000</td>\n",
       "      <td>0.000000</td>\n",
       "      <td>0.000000</td>\n",
       "      <td>0.000000</td>\n",
       "    </tr>\n",
       "  </tbody>\n",
       "</table>\n",
       "<p>755 rows × 4 columns</p>\n",
       "</div>"
      ],
      "text/plain": [
       "            Delta Open Perc  Delta High Perc  Delta Low Perc  Delta Close Perc\n",
       "2019-09-26        -0.008461        -0.008147       -0.010316         -0.008340\n",
       "2019-09-27        -0.012166        -0.006711       -0.002691          0.006026\n",
       "2019-09-30         0.010888         0.010333        0.011103         -0.000150\n",
       "2019-10-01        -0.010569        -0.015449       -0.013730         -0.013086\n",
       "2019-10-02        -0.008605        -0.002255       -0.011833          0.006489\n",
       "...                     ...              ...             ...               ...\n",
       "2022-09-19         0.009647        -0.002492       -0.005448         -0.020214\n",
       "2022-09-20        -0.007021        -0.005171       -0.022710         -0.030791\n",
       "2022-09-21        -0.046208        -0.041839       -0.018837         -0.010485\n",
       "2022-09-22        -0.009310        -0.023610       -0.037480         -0.031025\n",
       "2022-09-23         0.000000         0.000000        0.000000          0.000000\n",
       "\n",
       "[755 rows x 4 columns]"
      ]
     },
     "execution_count": 152,
     "metadata": {},
     "output_type": "execute_result"
    }
   ],
   "source": [
    "delta_prices_perc"
   ]
  },
  {
   "cell_type": "markdown",
   "id": "f2b1e80e",
   "metadata": {},
   "source": [
    "### Bivariate Analysis"
   ]
  },
  {
   "cell_type": "code",
   "execution_count": null,
   "id": "3f332eb3",
   "metadata": {},
   "outputs": [],
   "source": [
    "pd.plotting.\\\n",
    "    scatter_matrix(\n",
    "        delta_prices_perc, \n",
    "        figsize=(10, 10), \n",
    "        color=\"gray\", \n",
    "        alpha=0.75, \n",
    "        diagonal=\"kde\")"
   ]
  },
  {
   "cell_type": "code",
   "execution_count": null,
   "id": "81c9ad07",
   "metadata": {},
   "outputs": [],
   "source": [
    "# We could create also a correlation heatmap\n",
    "plt.figure(figsize=(6, 6))\n",
    "sns.heatmap(delta_prices_perc.corr(), annot=True, square=True, linewidths=2)"
   ]
  },
  {
   "cell_type": "code",
   "execution_count": null,
   "id": "41430591",
   "metadata": {},
   "outputs": [],
   "source": [
    "agg_correlation = (delta_prices_perc.corr().sum(axis=0) - 1)\n",
    "agg_correlation.idxmax()"
   ]
  },
  {
   "cell_type": "code",
   "execution_count": null,
   "id": "000c57f5",
   "metadata": {},
   "outputs": [],
   "source": [
    "# We could look without percentages, if this relation holds\n",
    "plt.figure(figsize=(6, 6))\n",
    "sns.heatmap(delta_prices.corr(), annot=True, square=True, linewidths=2)"
   ]
  },
  {
   "cell_type": "code",
   "execution_count": null,
   "id": "0fb5c592",
   "metadata": {},
   "outputs": [],
   "source": [
    "agg_correlation = (delta_prices.corr().sum(axis=0) - 1)\n",
    "agg_correlation.idxmax()"
   ]
  },
  {
   "cell_type": "markdown",
   "id": "ff7b8e9d",
   "metadata": {},
   "source": [
    "In this case, there is a difference between the delta_prices and delta_prices_perc of which is the one that has the most correlaiton with the other variables."
   ]
  },
  {
   "cell_type": "code",
   "execution_count": null,
   "id": "89b3dcc8",
   "metadata": {},
   "outputs": [],
   "source": [
    "def get_max_corr_variable(df):\n",
    "    agg_correlation = (df.corr().sum(axis=0) - 1)\n",
    "    return agg_correlation.idxmax()"
   ]
  },
  {
   "cell_type": "markdown",
   "id": "7860f6f0",
   "metadata": {},
   "source": [
    "We could make predictions based on the begin, high, low, and closed and see which regression will work better."
   ]
  },
  {
   "cell_type": "markdown",
   "id": "2cb97be4",
   "metadata": {},
   "source": [
    "### ETS Analysis\n",
    "\n",
    "Stationary time series are time series which mean, variance and autocorrelation are constant over time.\n",
    "\n",
    "Many statistical models assume that the time series they work with is transformed into stationary, with for example **differenciation**."
   ]
  },
  {
   "cell_type": "markdown",
   "id": "1627d351",
   "metadata": {},
   "source": [
    "#### Hodrik-Presscot Decomposition"
   ]
  },
  {
   "cell_type": "markdown",
   "id": "cb1997da",
   "metadata": {},
   "source": [
    "Could make a first analysis on trend, seasonality and error.\n",
    "\n",
    "We will use Hodrick-Presscot Method, which is used to separate the trend and cyclical components.\n",
    "We will use lambda smooth factor, [link](https://stats.stackexchange.com/questions/34646/determining-smoothing-parameter-in-hp-filter-for-hourly-data)."
   ]
  },
  {
   "cell_type": "code",
   "execution_count": 31,
   "id": "de39094a",
   "metadata": {},
   "outputs": [
    {
     "data": {
      "text/plain": [
       "45697600.0"
      ]
     },
     "execution_count": 31,
     "metadata": {},
     "output_type": "execute_result"
    }
   ],
   "source": [
    "# we will use a lambda parameter to smooth the decomposition in weeks (HP is for data aggregation)\n",
    "lamb = 52 ** 4 * 6.25\n",
    "lamb"
   ]
  },
  {
   "cell_type": "code",
   "execution_count": null,
   "id": "f3105935",
   "metadata": {},
   "outputs": [],
   "source": [
    "def get_lambda_smoother(frequency_period):\n",
    "    # For a frequency of a month in a year, would be 12\n",
    "    return frequency_period ** 4 * 6.25"
   ]
  },
  {
   "cell_type": "code",
   "execution_count": null,
   "id": "479134c2",
   "metadata": {},
   "outputs": [],
   "source": [
    "# We aggregate the data by week\n",
    "prices_amazon_week = prices_amazon_cleaned.resample(\"W\").agg(\"sum\")\n",
    "prices_amazon_week"
   ]
  },
  {
   "cell_type": "code",
   "execution_count": null,
   "id": "d0b278ef",
   "metadata": {},
   "outputs": [],
   "source": [
    "def get_resample_week(df):\n",
    "    return df.resample(\"W\").agg(\"sum\")"
   ]
  },
  {
   "cell_type": "code",
   "execution_count": null,
   "id": "a9b93409",
   "metadata": {},
   "outputs": [],
   "source": [
    "hp_cycle, hp_trend = hpfilter(prices_amazon_week[\"open\"], lamb=lamb)\n",
    "\n",
    "decomposition = prices_amazon_week[[\"open\"]]\n",
    "decomposition[\"cycle\"] = hp_cycle\n",
    "decomposition[\"trend\"] = hp_trend\n",
    "decomposition"
   ]
  },
  {
   "cell_type": "code",
   "execution_count": null,
   "id": "b3cd12ed",
   "metadata": {},
   "outputs": [],
   "source": [
    "def get_week_decomposition_hp(df_weekly, field):\n",
    "    decomposition = df_weekly[[field]]\n",
    "    \n",
    "    decomposition[\"hp_cycle\"] = hp_cycle\n",
    "    decomposition[\"hp_trend\"] = hp_trend\n",
    "    decomposition\n",
    "    \n",
    "    return decomposition"
   ]
  },
  {
   "cell_type": "markdown",
   "id": "580c8c74",
   "metadata": {},
   "source": [
    "#### Unobserved Components"
   ]
  },
  {
   "cell_type": "code",
   "execution_count": null,
   "id": "b198ea35",
   "metadata": {},
   "outputs": [],
   "source": [
    "# We can also use this method to identify ETS components: Error, Trend & Seasonality\n",
    "from statsmodels.tsa.statespace.structural import UnobservedComponents\n",
    "uc = UnobservedComponents(\n",
    "    prices_amazon_week[\"open\"],\n",
    "    level=\"lltrend\",\n",
    "    cycle=True,\n",
    "    stochastic_cycle=True\n",
    ")\n",
    "\n",
    "res_uc = uc.fit(method=\"powell\", disp=True)\n",
    "res_uc.summary()"
   ]
  },
  {
   "cell_type": "code",
   "execution_count": null,
   "id": "1d40c023",
   "metadata": {},
   "outputs": [],
   "source": [
    "def get_week_decomposition_uc(df_weekly, field):\n",
    "    uc = UnobservedComponents(\n",
    "        df_weekly[field],\n",
    "        level=\"lltrend\",\n",
    "        cycle=True,\n",
    "        stochastic_cycle=True\n",
    "    )\n",
    "\n",
    "    res_uc = uc.fit(method=\"powell\", disp=True)\n",
    "    \n",
    "    # And now we create the new decomposition dataframe\n",
    "    decomposition = df_weekly[[field]]\n",
    "    decomposition[\"uc_cycle\"] = res_uc.cycle.smoothed\n",
    "    decomposition[\"uc_trend\"] = res_uc.level.smoothed\n",
    "    decomposition[\"uc_error\"] = res_uc.resid\n",
    "    return decomposition"
   ]
  },
  {
   "cell_type": "code",
   "execution_count": null,
   "id": "f4191f65",
   "metadata": {},
   "outputs": [],
   "source": [
    "get_week_decomposition_uc(prices_amazon_week, \"open\")"
   ]
  },
  {
   "cell_type": "markdown",
   "id": "4c18a328",
   "metadata": {},
   "source": [
    "#### Seasonal Decompose"
   ]
  },
  {
   "cell_type": "code",
   "execution_count": null,
   "id": "540b37b6",
   "metadata": {},
   "outputs": [],
   "source": [
    "from statsmodels.tsa.seasonal import seasonal_decompose\n",
    "\n",
    "def get_week_decomposition_sd(df_weekly, field):\n",
    "    # We can make the decomposition in an additive way\n",
    "    s_dc = seasonal_decompose(df_weekly[field], model=\"additive\")\n",
    "    \n",
    "    # And now we create the new decomposition dataframe\n",
    "    decomposition = df_weekly[[field]]\n",
    "    \n",
    "    decomposition[\"sd_cycle\"] = s_dc.seasonal\n",
    "    decomposition[\"sd_trend\"] = s_dc.trend\n",
    "    decomposition[\"sd_error\"] = s_dc.resid\n",
    "    \n",
    "    return decomposition"
   ]
  },
  {
   "cell_type": "markdown",
   "id": "fc9df0b8",
   "metadata": {},
   "source": [
    "#### Comparing Results"
   ]
  },
  {
   "cell_type": "code",
   "execution_count": null,
   "id": "ea3e4166",
   "metadata": {},
   "outputs": [],
   "source": [
    "prices_amazon_week_decomp_hp = get_week_decomposition_hp(prices_amazon_week, \"open\")\n",
    "prices_amazon_week_decomp_uc = get_week_decomposition_uc(prices_amazon_week, \"open\")\n",
    "prices_amazon_week_decomp_sd = get_week_decomposition_sd(prices_amazon_week, \"open\")"
   ]
  },
  {
   "cell_type": "code",
   "execution_count": null,
   "id": "ac9ea379",
   "metadata": {},
   "outputs": [],
   "source": [
    "# We will print the cycles\n",
    "prices_amazon_week[\"open\"].plot(figsize=(12, 6), color=\"black\", linestyle=\"-\", legend=\"Price\")\n",
    "\n",
    "prices_amazon_week_decomp_hp[\"hp_cycle\"].plot(\n",
    "    figsize=(12, 6), \n",
    "    color=\"blue\", \n",
    "    linestyle=\"--\", \n",
    "    lw=\"2\", \n",
    "    legend=\"HP Cycle\"\n",
    ")\n",
    "\n",
    "prices_amazon_week_decomp_uc[\"uc_cycle\"].plot(\n",
    "    figsize=(12, 6), \n",
    "    color=\"red\", \n",
    "    linestyle=\":\", \n",
    "    lw=\"2\", \n",
    "    legend=\"UC Cycle\"\n",
    ")\n",
    "\n",
    "prices_amazon_week_decomp_sd[\"sd_cycle\"].plot(\n",
    "    figsize=(12, 6), \n",
    "    color=\"green\", \n",
    "    linestyle=\"-.\", \n",
    "    lw=\"2\", \n",
    "    legend=\"SD Cycle\"\n",
    ")"
   ]
  },
  {
   "cell_type": "code",
   "execution_count": null,
   "id": "2005506e",
   "metadata": {},
   "outputs": [],
   "source": [
    "# We will print the cycles\n",
    "prices_amazon_week[\"open\"].plot(figsize=(12, 6), color=\"black\", linestyle=\"-\", legend=\"Price\")\n",
    "\n",
    "prices_amazon_week_decomp_hp[\"hp_trend\"].plot(\n",
    "    figsize=(12, 6), \n",
    "    color=\"blue\", \n",
    "    linestyle=\"--\", \n",
    "    lw=\"2\", \n",
    "    legend=\"HP Trend\"\n",
    ")\n",
    "\n",
    "prices_amazon_week_decomp_uc[\"uc_trend\"].plot(\n",
    "    figsize=(12, 6), \n",
    "    color=\"red\", \n",
    "    linestyle=\":\", \n",
    "    lw=\"2\", \n",
    "    legend=\"UC Trend\"\n",
    ")\n",
    "\n",
    "prices_amazon_week_decomp_sd[\"sd_trend\"].plot(\n",
    "    figsize=(12, 6), \n",
    "    color=\"green\", \n",
    "    linestyle=\"-.\", \n",
    "    lw=\"2\", \n",
    "    legend=\"SD Trend\"\n",
    ")"
   ]
  },
  {
   "cell_type": "markdown",
   "id": "740b8906",
   "metadata": {},
   "source": [
    "###### Trend\n",
    "We can see the UC Trend adapts the greatest to the price it is.\n",
    "\n",
    "The SD is not able to compute the whole trend.\n",
    "\n",
    "The HP is a straight line.\n",
    "\n",
    "###### Cycle\n",
    "The UC cycles are the lowest ones.\n",
    "\n",
    "The SD falls between UC and HP, and is computed for all the time series.\n",
    "\n",
    "The HP is the one that has now more variation.\n"
   ]
  },
  {
   "cell_type": "markdown",
   "id": "3b7145c1",
   "metadata": {},
   "source": [
    "#### Augmented Dicker-Fuller Stationary Test\n",
    "\n",
    "We compute the likelihood taht a dataset is not stationary (p-value)."
   ]
  },
  {
   "cell_type": "code",
   "execution_count": null,
   "id": "6ddcfbb5",
   "metadata": {},
   "outputs": [],
   "source": [
    "from statsmodels.tsa.stattools import adfuller\n",
    "\n",
    "result = adfuller(prices_amazon_week[\"open\"])\n",
    "\n",
    "print(\"Test Statistic\", result[0])\n",
    "print(\"P-Value\", result[1])\n",
    "print(\"Lags\", result[2])\n",
    "print(\"Observations\", result[3])"
   ]
  },
  {
   "cell_type": "markdown",
   "id": "32c79179",
   "metadata": {},
   "source": [
    "We can see that the probability of not being stationary is high. \n",
    "\n",
    "So we can't assume that this time-series is stationary."
   ]
  },
  {
   "cell_type": "code",
   "execution_count": null,
   "id": "b8126e6c",
   "metadata": {},
   "outputs": [],
   "source": [
    "# In case it is not stationary, we need to make the pertinent changes\n",
    "price_diff = (prices_amazon_week[\"open\"].shift(-1) - prices_amazon_week[\"open\"]).fillna(0)\n",
    "\n",
    "result = adfuller(price_diff)\n",
    "print(\"Test Statistic\", result[0])\n",
    "print(\"P-Value\", result[1])\n",
    "print(\"Lags\", result[2])\n",
    "print(\"Observations\", result[3])"
   ]
  },
  {
   "cell_type": "markdown",
   "id": "e196514a",
   "metadata": {},
   "source": [
    "Now the test statistic is very low (values under -4 have a very high likelihood of being stationary).\n",
    "\n",
    "The probability of not being stationary now is very low, so this transformed dataset is stationary."
   ]
  },
  {
   "cell_type": "code",
   "execution_count": null,
   "id": "6b7c7bad",
   "metadata": {},
   "outputs": [],
   "source": [
    "def make_stationary(series):\n",
    "    # Compute the series to make it stationary\n",
    "    result = adfuller(series)\n",
    "    \n",
    "    # Check if it is already stationary\n",
    "    stationary = True if result[0] < -4 else False    \n",
    "    \n",
    "    # If not, we start differenciating the function\n",
    "    series_diff = series\n",
    "    while not stationary:\n",
    "        \n",
    "        # Apply one differentiation\n",
    "        price_diff = (series_diff.shift(-1) - series_diff).fillna(0)\n",
    "        \n",
    "        # Compute the adfuller\n",
    "        result = adfuller(price_diff)\n",
    "        \n",
    "        # If we obtained a very high likelihood of being stationary\n",
    "        if result[0] < -4:\n",
    "            stationary = True\n",
    "        \n",
    "        # Keep \n",
    "        series_diff = price_diff\n",
    "    \n",
    "    return series_diff"
   ]
  },
  {
   "cell_type": "code",
   "execution_count": null,
   "id": "d2a4763c",
   "metadata": {},
   "outputs": [],
   "source": [
    "open_prices_amazon_week_stationary = make_stationary(prices_amazon_week[\"open\"])"
   ]
  },
  {
   "cell_type": "markdown",
   "id": "ab077999",
   "metadata": {},
   "source": [
    "### Autocorrelation & Partial Correlation\n",
    "\n",
    "It is the correlation of an observation (a delayed copy of itself) as a function of delay.\n",
    "\n",
    "It measures if the currently observed value has any relationship to the value in future/past."
   ]
  },
  {
   "cell_type": "code",
   "execution_count": null,
   "id": "6f5d9060",
   "metadata": {},
   "outputs": [],
   "source": [
    "from statsmodels.graphics.tsaplots import plot_acf, plot_pacf"
   ]
  },
  {
   "cell_type": "code",
   "execution_count": null,
   "id": "30187ca0",
   "metadata": {},
   "outputs": [],
   "source": [
    "figure_acf = plot_acf(prices_amazon_week[\"open\"], lags=100)\n",
    "figure_acf.set_size_inches(12 ,6)"
   ]
  },
  {
   "cell_type": "markdown",
   "id": "5992a04f",
   "metadata": {},
   "source": [
    "Where we have plot now the autocorrelation values against different lag values.\n",
    "\n",
    "The **partial autocorrelation**, only is used the correlation between that observation and the previous observation that lags periods, and correlation effects from lower lag-value terms are removed.\n",
    "\n",
    "And we plot this partial autocorrelation with ploy_pacf function:"
   ]
  },
  {
   "cell_type": "code",
   "execution_count": null,
   "id": "810f90e4",
   "metadata": {},
   "outputs": [],
   "source": [
    "figure_pacf = plot_pacf(prices_amazon_week[\"open\"], lags=77)\n",
    "figure_pacf.set_size_inches(12 ,6)"
   ]
  },
  {
   "cell_type": "markdown",
   "id": "87a8de8d",
   "metadata": {},
   "source": [
    "We can see a huge drop in the autocorrelation after the first two lag terms and then we have variations that are increasing in frequency and absolute value."
   ]
  },
  {
   "cell_type": "markdown",
   "id": "2e6d2f1d",
   "metadata": {},
   "source": [
    "### ARIMA\n",
    "\n",
    "ARIMA is one of the most popular time-series forecasting model that is used for forecasting time series with correlated data points.\n",
    "\n",
    "It has 3 components:\n",
    "- **Auto-Regression**: the autocorrelation we obtained in the before cell. It accepts a parameter of how many lags to use, p.\n",
    "- **Integrated**: the differencing transformation for the model to use to convert the time series into a stationary dataset. The parameter that accepts id d, which specifies the order of differencing to perform.\n",
    "- **Moving Average**: applies MA to lagged observations. The parameter q, is the size of the window of the MA. We choose this value depending on which is the sharp drop-off in the partial autocorrelation plot past the lag value of 1. In Amazon, we can see it is in 4-5.\n",
    "\n",
    "\n",
    "We are going to explore briefly this model here, but is going to be compared with other models in the forecasting application notebooks."
   ]
  },
  {
   "cell_type": "code",
   "execution_count": null,
   "id": "10a659fb",
   "metadata": {},
   "outputs": [],
   "source": [
    "from statsmodels.tsa.arima.model import ARIMA"
   ]
  },
  {
   "cell_type": "code",
   "execution_count": null,
   "id": "54947473",
   "metadata": {},
   "outputs": [],
   "source": [
    "# We specify p=36, d=1, q=4\n",
    "arima_model = ARIMA(prices_amazon_week[\"open\"], order=(36, 1, 4))\n",
    "res_ar = arima_model.fit()\n",
    "res_ar.summary()"
   ]
  },
  {
   "cell_type": "code",
   "execution_count": null,
   "id": "d61e391b",
   "metadata": {},
   "outputs": [],
   "source": [
    "# We could make now a prediction of some values in the dataset (from the first index to the last)\n",
    "prices_amazon_week[\"PredOpenPrice\"] = res_ar.predict(\n",
    "    prices_amazon_week.index[0],   # first index to predict, as it is datetime\n",
    "    prices_amazon_week.index[-1]   # last index to predict\n",
    ")\n",
    "\n",
    "prices_amazon_week[\"PredOpenPrice\"].plot(\n",
    "    figsize=(12, 6), \n",
    "    color=\"blue\", \n",
    "    linestyle=\"-\", \n",
    "    lw=2, \n",
    "    legend=\"Prediction Open Price\"\n",
    ")\n",
    "\n",
    "prices_amazon_week[\"open\"].plot(\n",
    "    figsize=(12, 6), \n",
    "    color=\"red\", \n",
    "    linestyle=\"-.\", \n",
    "    lw=2, \n",
    "    legend=\"Actual Open Price\"\n",
    ")"
   ]
  },
  {
   "cell_type": "code",
   "execution_count": null,
   "id": "45519db1",
   "metadata": {},
   "outputs": [],
   "source": [
    "from statsmodels.tsa.base.datetools import dates_from_range"
   ]
  },
  {
   "cell_type": "code",
   "execution_count": null,
   "id": "0a2c7daa",
   "metadata": {},
   "outputs": [],
   "source": [
    "# We create index for 48 more months starting in 9 month of 2022\n",
    "extended_amazon_df = pd.DataFrame(index=dates_from_range('2022m9', length=48))\n",
    "extended_amazon_df = prices_amazon_week.append(extended_amazon_df)\n",
    "extended_amazon_df"
   ]
  },
  {
   "cell_type": "code",
   "execution_count": null,
   "id": "c16a8c37",
   "metadata": {},
   "outputs": [],
   "source": [
    "extended_amazon_df[\"PredOpenPrice\"] = res_ar.predict(extended_amazon_df.index[0], extended_amazon_df.index[-1])\n",
    "\n",
    "extended_amazon_df[\"PredOpenPrice\"].iloc[-100:].plot(\n",
    "    figsize=(12, 6), \n",
    "    color=\"blue\", \n",
    "    linestyle=\"-\", \n",
    "    lw=2, \n",
    "    legend=\"Prediction Open Price\"\n",
    ")\n",
    "\n",
    "extended_amazon_df[\"open\"].iloc[-100:].plot(\n",
    "    figsize=(12, 6), \n",
    "    color=\"red\", \n",
    "    linestyle=\"-.\", \n",
    "    lw=2, \n",
    "    legend=\"Actual Open Price\"\n",
    ")"
   ]
  },
  {
   "cell_type": "code",
   "execution_count": null,
   "id": "1f20f299",
   "metadata": {},
   "outputs": [],
   "source": [
    "# We can see that the model is not able to make prediction correctly\n",
    "extended_amazon_df.tail(10)"
   ]
  },
  {
   "cell_type": "markdown",
   "id": "15d04625",
   "metadata": {},
   "source": [
    "### SARIMAX\n",
    "\n",
    "**SARIMA** is an extension of ARIMA for univariate time series, with seasonal component. The paramters it has are:\n",
    "- p = trend auto-regressive order\n",
    "- d = trend difference order. The tests:\n",
    "    - Kwiatkowski-Phillips-Schmidt-Shin: KPSS\n",
    "    - Augmented Dickey-Fuller: ADF\n",
    "    - Phillips-Perron: PP\n",
    "- q = trend MA order\n",
    "- p = seasonal auto-regressive order\n",
    "- D = seasonal difference order\n",
    "    - Canova-Hansen: CH\n",
    "- Q = seasonal MA order\n",
    "- m = the length of a single seasonal period in the number of time steps\n",
    "\n",
    "\n",
    "\n",
    "**SARIMAX** also supports exogenours variables.\n",
    "\n",
    "The auto-ARIMA modle tries to find automatically the SARIMAX parameters by conducting the tests.\n",
    "\n",
    "Once we have the optimal *d*, the auto-ARIMA model searches for the best model by trying values in the range of *start_p*, *max_p*, *start_q*, *max_q*.\n",
    "\n",
    "If seasonal feature is enabled, once determined d, we will find also the P and Q.\n",
    "\n",
    "The best model is the one that minimized the value of the information criterion:\n",
    "- **Akaike Information Criterion**\n",
    "- **Corrected AIC**\n",
    "- **Bayesion Informaiton Criterion**\n",
    "- **Out-Of-Bag**: for validation scoring\n",
    "\n",
    "If not model is suitable, we would obtain back a *ValueError*."
   ]
  },
  {
   "cell_type": "code",
   "execution_count": null,
   "id": "7cca6db9",
   "metadata": {},
   "outputs": [],
   "source": [
    "import pmdarima as pm\n",
    "model = pm.auto_arima(\n",
    "    prices_amazon_week[\"open\"], \n",
    "    seasonal=True, \n",
    "    stepwise=True, \n",
    "    m=52   # as it is in weeks, one complete season (one year) = 52 weeks\n",
    ")\n",
    "model.summary()"
   ]
  },
  {
   "cell_type": "code",
   "execution_count": null,
   "id": "4c375a8b",
   "metadata": {},
   "outputs": [],
   "source": [
    "# We can also make the prediction\n",
    "extended_amazon_df[\"PredOpenPrice\"], conf_int = model.predict(\n",
    "    48, \n",
    "    return_conf_int=True, \n",
    "    alpha=0.05   # 95% of confidence interval\n",
    ")\n",
    "\n",
    "plt.plot(prices_amazon_week[\"open\"], c=\"red\")\n",
    "plt.plot(extended_amazon_df[\"PredOpenPrice\"], c=\"blue\")\n",
    "plt.show()"
   ]
  },
  {
   "cell_type": "code",
   "execution_count": null,
   "id": "5ca3abf9",
   "metadata": {},
   "outputs": [],
   "source": [
    "extended_amazon_df[\"PredOpenPrice\"], conf_int = model.predict(48, return_conf_int=True, alpha=0.05)"
   ]
  },
  {
   "cell_type": "code",
   "execution_count": null,
   "id": "a46cb105",
   "metadata": {},
   "outputs": [],
   "source": [
    "extended_amazon_df"
   ]
  },
  {
   "cell_type": "markdown",
   "id": "9532b398",
   "metadata": {},
   "source": [
    "### FB Prophet\n",
    "\n",
    "Used for univariate time series with strong support for seasonality and holiday effects.\n",
    "\n",
    "Very suitable for time series with frequent changes of trends and very robust to handle outliers.\n",
    "\n",
    "It is an additive regression model with:\n",
    "- Piecewise linear or logistic growth trend\n",
    "- Yearly seasonal component modeled with a Fourier series\n",
    "- Weekly seasonal component modeled with dummy variables\n",
    "- A user-provided list of holidays"
   ]
  },
  {
   "cell_type": "code",
   "execution_count": null,
   "id": "d30f61fe",
   "metadata": {},
   "outputs": [],
   "source": []
  },
  {
   "cell_type": "markdown",
   "id": "a5b6a1a2",
   "metadata": {},
   "source": [
    "# S&P 500 Companies"
   ]
  },
  {
   "cell_type": "code",
   "execution_count": 3,
   "id": "c0d42a01",
   "metadata": {},
   "outputs": [],
   "source": []
  },
  {
   "cell_type": "code",
   "execution_count": 4,
   "id": "0d28c980",
   "metadata": {},
   "outputs": [
    {
     "data": {
      "text/html": [
       "<div>\n",
       "<style scoped>\n",
       "    .dataframe tbody tr th:only-of-type {\n",
       "        vertical-align: middle;\n",
       "    }\n",
       "\n",
       "    .dataframe tbody tr th {\n",
       "        vertical-align: top;\n",
       "    }\n",
       "\n",
       "    .dataframe thead th {\n",
       "        text-align: right;\n",
       "    }\n",
       "</style>\n",
       "<table border=\"1\" class=\"dataframe\">\n",
       "  <thead>\n",
       "    <tr style=\"text-align: right;\">\n",
       "      <th></th>\n",
       "      <th>Symbol</th>\n",
       "      <th>Security</th>\n",
       "      <th>SEC filings</th>\n",
       "      <th>GICS Sector</th>\n",
       "      <th>GICS Sub-Industry</th>\n",
       "      <th>Headquarters Location</th>\n",
       "      <th>Date first added</th>\n",
       "      <th>CIK</th>\n",
       "      <th>Founded</th>\n",
       "    </tr>\n",
       "  </thead>\n",
       "  <tbody>\n",
       "    <tr>\n",
       "      <th>0</th>\n",
       "      <td>MMM</td>\n",
       "      <td>3M</td>\n",
       "      <td>reports</td>\n",
       "      <td>Industrials</td>\n",
       "      <td>Industrial Conglomerates</td>\n",
       "      <td>Saint Paul, Minnesota</td>\n",
       "      <td>1976-08-09</td>\n",
       "      <td>66740</td>\n",
       "      <td>1902</td>\n",
       "    </tr>\n",
       "    <tr>\n",
       "      <th>1</th>\n",
       "      <td>AOS</td>\n",
       "      <td>A. O. Smith</td>\n",
       "      <td>reports</td>\n",
       "      <td>Industrials</td>\n",
       "      <td>Building Products</td>\n",
       "      <td>Milwaukee, Wisconsin</td>\n",
       "      <td>2017-07-26</td>\n",
       "      <td>91142</td>\n",
       "      <td>1916</td>\n",
       "    </tr>\n",
       "    <tr>\n",
       "      <th>2</th>\n",
       "      <td>ABT</td>\n",
       "      <td>Abbott</td>\n",
       "      <td>reports</td>\n",
       "      <td>Health Care</td>\n",
       "      <td>Health Care Equipment</td>\n",
       "      <td>North Chicago, Illinois</td>\n",
       "      <td>1964-03-31</td>\n",
       "      <td>1800</td>\n",
       "      <td>1888</td>\n",
       "    </tr>\n",
       "    <tr>\n",
       "      <th>3</th>\n",
       "      <td>ABBV</td>\n",
       "      <td>AbbVie</td>\n",
       "      <td>reports</td>\n",
       "      <td>Health Care</td>\n",
       "      <td>Pharmaceuticals</td>\n",
       "      <td>North Chicago, Illinois</td>\n",
       "      <td>2012-12-31</td>\n",
       "      <td>1551152</td>\n",
       "      <td>2013 (1888)</td>\n",
       "    </tr>\n",
       "    <tr>\n",
       "      <th>4</th>\n",
       "      <td>ABMD</td>\n",
       "      <td>Abiomed</td>\n",
       "      <td>reports</td>\n",
       "      <td>Health Care</td>\n",
       "      <td>Health Care Equipment</td>\n",
       "      <td>Danvers, Massachusetts</td>\n",
       "      <td>2018-05-31</td>\n",
       "      <td>815094</td>\n",
       "      <td>1981</td>\n",
       "    </tr>\n",
       "  </tbody>\n",
       "</table>\n",
       "</div>"
      ],
      "text/plain": [
       "  Symbol     Security SEC filings  GICS Sector         GICS Sub-Industry  \\\n",
       "0    MMM           3M     reports  Industrials  Industrial Conglomerates   \n",
       "1    AOS  A. O. Smith     reports  Industrials         Building Products   \n",
       "2    ABT       Abbott     reports  Health Care     Health Care Equipment   \n",
       "3   ABBV       AbbVie     reports  Health Care           Pharmaceuticals   \n",
       "4   ABMD      Abiomed     reports  Health Care     Health Care Equipment   \n",
       "\n",
       "     Headquarters Location Date first added      CIK      Founded  \n",
       "0    Saint Paul, Minnesota       1976-08-09    66740         1902  \n",
       "1     Milwaukee, Wisconsin       2017-07-26    91142         1916  \n",
       "2  North Chicago, Illinois       1964-03-31     1800         1888  \n",
       "3  North Chicago, Illinois       2012-12-31  1551152  2013 (1888)  \n",
       "4   Danvers, Massachusetts       2018-05-31   815094         1981  "
      ]
     },
     "execution_count": 4,
     "metadata": {},
     "output_type": "execute_result"
    }
   ],
   "source": [
    "# We can get the S&P500 companies by reading directly to the table of wikipedia\n",
    "wiki_url = \"https://en.wikipedia.org/wiki/List_of_S%26P_500_companies\"\n",
    "\n",
    "\n",
    "res = requests.get(wiki_url, headers ={\n",
    "        'User-Agent':'Mozilla/5.0 (Windows NT 10.0; Win64; x64) AppleWebKit/537.36 (KHTML, like Gecko) Chrome/91.0.4472.124 Safari/537.36'\n",
    "    })\n",
    "\n",
    "sp_companies = pd.read_html(\n",
    "    res.text, \n",
    "    header=0, \n",
    "    )[0]\n",
    "\n",
    "sp_companies.head()"
   ]
  },
  {
   "cell_type": "code",
   "execution_count": 138,
   "id": "af8ad76c",
   "metadata": {},
   "outputs": [
    {
     "data": {
      "image/png": "[encoded data removed]",
      "text/plain": [
       "<Figure size 3000x1200 with 1 Axes>"
      ]
     },
     "metadata": {},
     "output_type": "display_data"
    }
   ],
   "source": [
    "sns.set(style=\"darkgrid\")\n",
    "\n",
    "plt.figure(figsize=(30,12))\n",
    "\n",
    "sns.histplot(\n",
    "    data=sp_companies, \n",
    "    x=\"GICS Sector\",\n",
    "    stat=\"percent\"\n",
    ")\n",
    "\n",
    "plt.title(\"Sector of S&P500 Companies\")\n",
    "plt.ylabel(\"% of companies\")\n",
    "plt.xlabel(\"GICS Sector\")\n",
    "plt.show()"
   ]
  },
  {
   "cell_type": "code",
   "execution_count": 90,
   "id": "2cba7fd9",
   "metadata": {},
   "outputs": [
    {
     "data": {
      "text/html": [
       "<div>\n",
       "<style scoped>\n",
       "    .dataframe tbody tr th:only-of-type {\n",
       "        vertical-align: middle;\n",
       "    }\n",
       "\n",
       "    .dataframe tbody tr th {\n",
       "        vertical-align: top;\n",
       "    }\n",
       "\n",
       "    .dataframe thead th {\n",
       "        text-align: right;\n",
       "    }\n",
       "</style>\n",
       "<table border=\"1\" class=\"dataframe\">\n",
       "  <thead>\n",
       "    <tr style=\"text-align: right;\">\n",
       "      <th></th>\n",
       "      <th>Date</th>\n",
       "      <th>Ticker</th>\n",
       "      <th>Security</th>\n",
       "      <th>Ticker.1</th>\n",
       "      <th>Security.1</th>\n",
       "      <th>Reason</th>\n",
       "    </tr>\n",
       "  </thead>\n",
       "  <tbody>\n",
       "    <tr>\n",
       "      <th>0</th>\n",
       "      <td>September 19, 2022</td>\n",
       "      <td>CSGP</td>\n",
       "      <td>CoStar Group</td>\n",
       "      <td>PVH</td>\n",
       "      <td>PVH</td>\n",
       "      <td>Market capitalization change.[4]</td>\n",
       "    </tr>\n",
       "    <tr>\n",
       "      <th>1</th>\n",
       "      <td>September 19, 2022</td>\n",
       "      <td>INVH</td>\n",
       "      <td>Invitation Homes</td>\n",
       "      <td>PENN</td>\n",
       "      <td>Penn Entertainment</td>\n",
       "      <td>Market capitalization change.[4]</td>\n",
       "    </tr>\n",
       "    <tr>\n",
       "      <th>2</th>\n",
       "      <td>June 21, 2022</td>\n",
       "      <td>KDP</td>\n",
       "      <td>Keurig Dr Pepper</td>\n",
       "      <td>UA/UAA</td>\n",
       "      <td>Under Armour</td>\n",
       "      <td>Market capitalization change.[5]</td>\n",
       "    </tr>\n",
       "    <tr>\n",
       "      <th>3</th>\n",
       "      <td>June 21, 2022</td>\n",
       "      <td>ON</td>\n",
       "      <td>ON Semiconductor</td>\n",
       "      <td>IPGP</td>\n",
       "      <td>IPG Photonics</td>\n",
       "      <td>Market capitalization change.[5]</td>\n",
       "    </tr>\n",
       "    <tr>\n",
       "      <th>4</th>\n",
       "      <td>June 8, 2022</td>\n",
       "      <td>VICI</td>\n",
       "      <td>Vici Properties</td>\n",
       "      <td>CERN</td>\n",
       "      <td>Cerner</td>\n",
       "      <td>S&amp;P 500 constituent Oracle Corp. acquired Cern...</td>\n",
       "    </tr>\n",
       "  </tbody>\n",
       "</table>\n",
       "</div>"
      ],
      "text/plain": [
       "                 Date Ticker          Security Ticker.1          Security.1  \\\n",
       "0  September 19, 2022   CSGP      CoStar Group      PVH                 PVH   \n",
       "1  September 19, 2022   INVH  Invitation Homes     PENN  Penn Entertainment   \n",
       "2       June 21, 2022    KDP  Keurig Dr Pepper   UA/UAA        Under Armour   \n",
       "3       June 21, 2022     ON  ON Semiconductor     IPGP       IPG Photonics   \n",
       "4        June 8, 2022   VICI   Vici Properties     CERN              Cerner   \n",
       "\n",
       "                                              Reason  \n",
       "0                   Market capitalization change.[4]  \n",
       "1                   Market capitalization change.[4]  \n",
       "2                   Market capitalization change.[5]  \n",
       "3                   Market capitalization change.[5]  \n",
       "4  S&P 500 constituent Oracle Corp. acquired Cern...  "
      ]
     },
     "execution_count": 90,
     "metadata": {},
     "output_type": "execute_result"
    }
   ],
   "source": [
    "# Select the companies that have changed\n",
    "sp_companies_changed = pd.read_html(wiki_url, header=1)[1]\n",
    "sp_companies_changed.head()"
   ]
  },
  {
   "cell_type": "markdown",
   "id": "953da298",
   "metadata": {},
   "source": [
    "- TODO: Remove outliers by inter-quantile range\n",
    "\n",
    "- TODO: When computing delta_prices_perc, check for 0 in the divisor\n",
    "\n",
    "- TODO: Install fonts for matplotlib\n",
    "    - https://stackoverflow.com/questions/42097053/matplotlib-cannot-find-basic-fonts\n",
    "\n",
    "- TODO: PCA to detect in each case, which features to use -> feature engineering.\n",
    "    - https://medium.com/@data.science.enthusiast/feature-selection-techniques-forward-backward-wrapper-selection-9587f3c70cfa\n",
    "\n"
   ]
  }
 ],
 "metadata": {
  "kernelspec": {
   "display_name": "Python 3 (ipykernel)",
   "language": "python",
   "name": "python3"
  },
  "language_info": {
   "codemirror_mode": {
    "name": "ipython",
    "version": 3
   },
   "file_extension": ".py",
   "mimetype": "text/x-python",
   "name": "python",
   "nbconvert_exporter": "python",
   "pygments_lexer": "ipython3",
   "version": "3.8.13"
  },
  "vscode": {
   "interpreter": {
    "hash": "6622478a4d4f2a2663c28fb748cca37532995765944e42cb3bb9715baec99686"
   }
  }
 },
 "nbformat": 4,
 "nbformat_minor": 5
}
